{
 "cells": [
  {
   "cell_type": "code",
   "execution_count": 1,
   "metadata": {
    "id": "uxCkB_DXTHzf"
   },
   "outputs": [],
   "source": [
    "# Copyright 2023 Google LLC\n",
    "#\n",
    "# Licensed under the Apache License, Version 2.0 (the \"License\");\n",
    "# you may not use this file except in compliance with the License.\n",
    "# You may obtain a copy of the License at\n",
    "#\n",
    "#     https://www.apache.org/licenses/LICENSE-2.0\n",
    "#\n",
    "# Unless required by applicable law or agreed to in writing, software\n",
    "# distributed under the License is distributed on an \"AS IS\" BASIS,\n",
    "# WITHOUT WARRANTIES OR CONDITIONS OF ANY KIND, either express or implied.\n",
    "# See the License for the specific language governing permissions and\n",
    "# limitations under the License."
   ]
  },
  {
   "cell_type": "markdown",
   "metadata": {
    "id": "Hny4I-ODTIS6"
   },
   "source": [
    "# Text Summarization of Large Documents\n",
    "\n",
    "\n",
    "<table align=\"left\">\n",
    "\n",
    "  <td>\n",
    "    <a href=\"https://colab.research.google.com/github/GoogleCloudPlatform/generative-ai/blob/main/language/examples/reference-architectures/text_summarization_for_large_documents.ipynb\">\n",
    "      <img src=\"https://cloud.google.com/ml-engine/images/colab-logo-32px.png\" alt=\"Colab logo\"> Run in Colab\n",
    "    </a>\n",
    "  </td>\n",
    "  <td>\n",
    "    <a href=\"https://github.com/GoogleCloudPlatform/generative-ai/blob/main/language/examples/reference-architectures/text_summarization_for_large_documents.ipynb\">\n",
    "      <img src=\"https://cloud.google.com/ml-engine/images/github-logo-32px.png\" alt=\"GitHub logo\">\n",
    "      View on GitHub\n",
    "    </a>\n",
    "  </td>\n",
    "  <td>\n",
    "    <a href=\"https://console.cloud.google.com/vertex-ai/workbench/deploy-notebook?download_url=https://raw.githubusercontent.com/GoogleCloudPlatform/generative-ai/blob/main/language/examples/reference-architectures/text_summarization_for_large_documents.ipynb\">\n",
    "      <img src=\"https://lh3.googleusercontent.com/UiNooY4LUgW_oTvpsNhPpQzsstV5W8F7rYgxgGBD85cWJoLmrOzhVs_ksK_vgx40SHs7jCqkTkCk=e14-rj-sc0xffffff-h130-w32\" alt=\"Vertex AI logo\">\n",
    "      Open in Vertex AI Workbench\n",
    "    </a>\n",
    "  </td>\n",
    "</table>"
   ]
  },
  {
   "cell_type": "markdown",
   "metadata": {
    "id": "-nLS57E2TO5y"
   },
   "source": [
    "## Overview\n",
    "\n",
    "Text summarization is the process of creating a shorter version of a text document while still preserving the most important information. This can be useful for a variety of purposes, such as quickly skimming a long document, getting the gist of an article, or sharing a summary with others.\n",
    "\n",
    "Although summarizing a short paragraph is a non-trivial task, there are a few challenges to overcome if you want to summarize a large document, such as a PDF file with multiple pages. In this notebook, you will go through a few examples of how you can use generative models to summarize large documents."
   ]
  },
  {
   "cell_type": "markdown",
   "metadata": {
    "id": "iXsvgIuwTPZw"
   },
   "source": [
    "### Objective\n",
    "\n",
    "In this tutorial, you will learn how to use generative models to summarize information from text by working through the following examples:\n",
    "\n",
    "- Stuffing method\n",
    "- MapReduce method\n",
    "- MapReduce with Overlapping Chunks method\n",
    "- MapReduce with Rolling Summary method"
   ]
  },
  {
   "cell_type": "markdown",
   "metadata": {
    "id": "skXAu__iqks_"
   },
   "source": [
    "### Costs\n",
    "\n",
    "This tutorial uses billable components of Google Cloud:\n",
    "- Vertex AI Generative AI Studio\n",
    "\n",
    "Learn about [Vertex AI pricing](https://cloud.google.com/vertex-ai/pricing), [Generative AI pricing](https://cloud.google.com/vertex-ai/pricing#generative_ai_models), and use the [Pricing Calculator](https://cloud.google.com/products/calculator/) to generate a cost estimate based on your projected usage."
   ]
  },
  {
   "cell_type": "markdown",
   "metadata": {
    "id": "mvKl-BtQTRiQ"
   },
   "source": [
    "## Getting Started"
   ]
  },
  {
   "cell_type": "markdown",
   "metadata": {
    "id": "PwFMpIMrTV_4"
   },
   "source": [
    "### Install Vertex AI SDK, other packages and their dependencies"
   ]
  },
  {
   "cell_type": "code",
   "execution_count": 2,
   "metadata": {
    "id": "WYUu8VMdJs3V"
   },
   "outputs": [],
   "source": [
    "!pip install google-cloud-aiplatform google-cloud-translate PyPDF2 ratelimit backoff --upgrade --quiet --user"
   ]
  },
  {
   "cell_type": "markdown",
   "metadata": {
    "id": "jWwtjLV5TY6H"
   },
   "source": [
    "**Colab only**: Uncomment the following cell to restart the kernel. For Vertex AI Workbench you can restart the terminal using the button on top."
   ]
  },
  {
   "cell_type": "code",
   "execution_count": 3,
   "metadata": {
    "id": "XRvKdaPDTznN"
   },
   "outputs": [],
   "source": [
    "# # Automatically restart kernel after installs so that your environment can access the new packages\n",
    "# import IPython\n",
    "\n",
    "# app = IPython.Application.instance()\n",
    "# app.kernel.do_shutdown(True)"
   ]
  },
  {
   "cell_type": "markdown",
   "metadata": {
    "id": "opUxT_k5TdgP"
   },
   "source": [
    "### Authenticating your notebook environment\n",
    "* If you are using **Colab** to run this notebook, uncomment the cell below and continue.\n",
    "* If you are using **Vertex AI Workbench**, check out the setup instructions [here](https://github.com/GoogleCloudPlatform/generative-ai/tree/main/setup-env)."
   ]
  },
  {
   "cell_type": "code",
   "execution_count": 4,
   "metadata": {
    "id": "vbNgv4q1T2Mi"
   },
   "outputs": [],
   "source": [
    "# from google.colab import auth\n",
    "# auth.authenticate_user()"
   ]
  },
  {
   "cell_type": "markdown",
   "metadata": {
    "id": "n5fXfvzhTkYN"
   },
   "source": [
    "### Import libraries"
   ]
  },
  {
   "cell_type": "markdown",
   "metadata": {
    "id": "uCGlGzd1ihnf"
   },
   "source": [
    "**Colab only:** Uncomment the following cell to initialize the Vertex AI SDK. For Vertex AI Workbench, you don't need to run this."
   ]
  },
  {
   "cell_type": "code",
   "execution_count": 5,
   "metadata": {
    "id": "GjSsu6cmUdEx"
   },
   "outputs": [],
   "source": [
    "# import vertexai\n",
    "\n",
    "# PROJECT_ID = \"[your-project-id]\"  # @param {type:\"string\"}\n",
    "# vertexai.init(project=PROJECT_ID, location=\"us-central1\")"
   ]
  },
  {
   "cell_type": "code",
   "execution_count": 6,
   "metadata": {
    "id": "cRkcfnQMT9vD"
   },
   "outputs": [],
   "source": [
    "import re\n",
    "import urllib\n",
    "import warnings\n",
    "from pathlib import Path\n",
    "\n",
    "import backoff\n",
    "import pandas as pd\n",
    "import PyPDF2\n",
    "import ratelimit\n",
    "from google.api_core import exceptions\n",
    "from tqdm import tqdm\n",
    "from vertexai.preview.language_models import TextGenerationModel\n",
    "\n",
    "warnings.filterwarnings(\"ignore\")"
   ]
  },
  {
   "cell_type": "markdown",
   "metadata": {
    "id": "DAGaTjPVTmhP"
   },
   "source": [
    "### Import models\n",
    "\n",
    "Here you load the pre-trained text generation model called `text-bison@001`.\n"
   ]
  },
  {
   "cell_type": "code",
   "execution_count": 7,
   "metadata": {
    "id": "ITUmZiNZcMUW"
   },
   "outputs": [],
   "source": [
    "generation_model = TextGenerationModel.from_pretrained(\"text-bison@001\")"
   ]
  },
  {
   "cell_type": "markdown",
   "metadata": {},
   "source": [
    "### Create the translation wrapper function"
   ]
  },
  {
   "cell_type": "code",
   "execution_count": 8,
   "metadata": {},
   "outputs": [],
   "source": [
    "from google.cloud import translate\n",
    "\n",
    "project_id = !gcloud config list project\n",
    "project_id = project_id[1].split('=')[1].strip()\n",
    "parent = f'projects/' + project_id\n",
    "\n",
    "\n",
    "def traduza(texto, idioma_destino):\n",
    "    client = translate.TranslationServiceClient()\n",
    "\n",
    "    response = client.translate_text(\n",
    "        parent=parent,\n",
    "        contents=[texto],\n",
    "        target_language_code=idioma_destino,\n",
    "        mime_type=\"text/plain\"\n",
    "    )\n",
    "\n",
    "    return response.translations[0].translated_text"
   ]
  },
  {
   "cell_type": "markdown",
   "metadata": {
    "id": "HZkLDRTjTcfm"
   },
   "source": [
    "### Preparing data files\n",
    "\n",
    "To begin, you will need to download a pdf file for the summarizing tasks below."
   ]
  },
  {
   "cell_type": "code",
   "execution_count": 9,
   "metadata": {
    "id": "7H0zINHpTaSu"
   },
   "outputs": [
    {
     "data": {
      "text/plain": [
       "(PosixPath('data/PFG-21-52.pdf'), <http.client.HTTPMessage at 0x7fe90421b210>)"
      ]
     },
     "execution_count": 9,
     "metadata": {},
     "output_type": "execute_result"
    }
   ],
   "source": [
    "# Define a folder to store the files\n",
    "data_folder = \"data\"\n",
    "Path(data_folder).mkdir(parents=True, exist_ok=True)\n",
    "\n",
    "# Define a pdf link to download and place to store the download file\n",
    "pdf_url = \"https://www.ic.unicamp.br/~reltech/PFG/2021/PFG-21-52.pdf\"\n",
    "pdf_file = Path(data_folder, pdf_url.split(\"/\")[-1])\n",
    "\n",
    "# Download the file using `urllib` library\n",
    "urllib.request.urlretrieve(pdf_url, pdf_file)"
   ]
  },
  {
   "cell_type": "markdown",
   "metadata": {
    "id": "d_g1xzysoU18"
   },
   "source": [
    "Here you will take a peak at a few pages of the downloaded pdf file"
   ]
  },
  {
   "cell_type": "code",
   "execution_count": 10,
   "metadata": {
    "id": "hLtMd97SoTBE",
    "scrolled": true,
    "tags": []
   },
   "outputs": [
    {
     "name": "stdout",
     "output_type": "stream",
     "text": [
      "Page 0: UNIVERSIDADE ESTADUAL DE CAMPINAS\n",
      "INSTITUTO DE COMPUTAÇÃOCategorização dos Desafios de\n",
      "Segurança em Nuvem\n",
      "relacionados à tecnologia de\n",
      "Virtualização\n",
      "M. G. Andrietta P. L. Geus\n",
      "Relatório Técnico - IC-PFG-21-52\n",
      "Projeto Final de Graduação\n",
      "2021 - Dezembro\n",
      "The contents of this report are the sole responsibility of the authors.\n",
      "O conteúdo deste relatório é de única responsabilidade dos autores. \n",
      "\n",
      "\n",
      "Page 1: 1 Categoriza ção dos Desafios de Segurança em Nuvem relacionados à \n",
      "tecnologia de Virtualização  \n",
      "Murilo Guidetti Andrietta1, Paulo Lício de Geus1 \n",
      "1 Instituto de Computação Universidade Estadual de Campinas (UNICAMP), Caixa Postal 6176  \n",
      "13083 -970 Campinas -SP, Brasil  \n",
      "m147472@dac.unicamp.br  e pgeus@unicamp.br  \n",
      " \n",
      "Resumo.  Ao longo dos últimos anos, organizações de variados ramos industriais têm aderido \n",
      "ao uso da Nuvem Computacional, pois os benéficos dessa arquitetura são cada vez mais \n",
      "evidentes. A tecnologia d e Virtualização funciona como base para o sucesso desse ambiente  \n",
      "em termos de flexibilidade e escalabilidade. Contudo, mesmo com a crescente que se tem \n",
      "verificado, a segurança ainda figura como um fator limitante para muitos atores em suas \n",
      "jornadas de migr ação para a Nuvem. Muitos autores de artigos científicos, white papers  e \n",
      "relatórios técnicos , têm empregado esforços para contribuir com o aumento de segurança em \n",
      "um escopo de ameaças relacionadas à Virtualização dentro do ecossistema computacional \n",
      "mencion ado, mas fica nítida a falta de padronização durantes as apresentações dos desafios \n",
      "considerados em cada um desses trabalhos. O presente Relatório objetiva propor uma nova \n",
      "forma de categorizar os desafios de segurança em Nuvem, especificamente relacionados  à \n",
      "Virtualização, de maneira simples e sistemática.  \n",
      " \n",
      "Palavras -Chave: Computação em Nuvem ; Virtualização, Segurança Computacional, \n",
      "Categorização . \n",
      "\n",
      "\n",
      "Page 2: 2 1. Introdução  \n",
      "1.1 Contextualização Geral – Computação em Nuvem  \n",
      "Ao longo dos últimos anos , vem se tornando cada vez mais evidente  que “a  tecnologia \n",
      "de Computação em Nuvem tem deixado para trás todas as outras estruturas/mecanismos de \n",
      "sistemas distribuídos em termos de competitividade, popularidade e sucesso” [1 ]. De fato, \n",
      "“organizações em uma variedade de indústrias estão lutando para justificar possuir o seu \n",
      "próprio hardware  enquanto a Computação em Nuvem continua a crescer como uma solução \n",
      "popular para atender às suas necessidades computacionais”  [2]. Somente como um exemplo \n",
      "ilustrativo, “ Em um estudo recente de corporações  do setor de tecnologia pela International \n",
      "Data Group , 77% das empresas têm agora alguma parcela de sua infraestrutura implantada \n",
      "junto a um provedor de Nuvem”  [2]. \n",
      "A empresa McAfee , reconhecida por comercializar soluções de  segurança \n",
      "computacional, divulga relatórios periódicos que buscam trazer luz acerca da adoção e dos \n",
      "riscos de se migrar para Nuvem. Em um desses relatórios, pode -se encontrar  a Figura 1, \n",
      "abaixo, que traz  os benefícios experimentados por  companhias que utilizam serviços gerais \n",
      "na Nuvem [3].  \n",
      " \n",
      "Figura 1  – Benefícios experimentados por companhias que utilizam serviços gerais na \n",
      "Nuvem.  \n",
      "Algumas das principais plataformas que oferecem serviços de Nuvem são Microsoft \n",
      "Azure [ 4], Amazon AWS [ 5], Google Cloud [ 6] e IBM Cloud [ 7]. \n",
      "\n",
      "\n"
     ]
    }
   ],
   "source": [
    "# Read the PDF file and create a list of pages\n",
    "reader = PyPDF2.PdfReader(pdf_file)\n",
    "pages = reader.pages\n",
    "\n",
    "# Print three pages from the pdf\n",
    "for i in range(3):\n",
    "    text = pages[i].extract_text().strip()\n",
    "    print(f\"Page {i}: {text} \\n\\n\")"
   ]
  },
  {
   "cell_type": "markdown",
   "metadata": {
    "id": "ZDVwBFSjZ7ws"
   },
   "source": [
    "## Method 1: Stuffing\n",
    "\n",
    "The simplest way to pass data to a language model is to \"stuff\" it all into the prompt as context. This means simply including all of the relevant information in the prompt, in the order that you want the model to process it.\n",
    "\n",
    "Here you will extract the text from all the pages in the pdf file."
   ]
  },
  {
   "cell_type": "code",
   "execution_count": 11,
   "metadata": {
    "id": "eH3Y3X8hJs3X"
   },
   "outputs": [
    {
     "name": "stderr",
     "output_type": "stream",
     "text": [
      "100%|██████████| 25/25 [00:01<00:00, 17.92it/s]"
     ]
    },
    {
     "name": "stdout",
     "output_type": "stream",
     "text": [
      "There are 39231 characters in the pdf\n"
     ]
    },
    {
     "name": "stderr",
     "output_type": "stream",
     "text": [
      "\n"
     ]
    }
   ],
   "source": [
    "# Read the PDF file and create a list of pages\n",
    "reader = PyPDF2.PdfReader(pdf_file)\n",
    "pages = reader.pages\n",
    "\n",
    "# Entry string to concatenate all the extacted texts\n",
    "concatenated_text = \"\"\n",
    "\n",
    "# Loop through the pages\n",
    "for page in tqdm(pages):\n",
    "\n",
    "    # Extract the text from the page and remove any leading or trailing whitespace\n",
    "    text = page.extract_text().strip()\n",
    "\n",
    "    # Concate the extracted text to the concatenated text\n",
    "    concatenated_text += text\n",
    "\n",
    "print(f\"There are {len(concatenated_text)} characters in the pdf\")"
   ]
  },
  {
   "cell_type": "markdown",
   "metadata": {
    "id": "fOMGiUAaiy3Y"
   },
   "source": [
    "You will now create a prompt template that can be used later in the notebook."
   ]
  },
  {
   "cell_type": "code",
   "execution_count": 12,
   "metadata": {
    "id": "eDBlvprWizgW"
   },
   "outputs": [],
   "source": [
    "prompt_template = traduza(\"\"\"\n",
    "    Escreva um sumário conciso do texto abaixo delimitado por três aspas invertidas.\n",
    "    Retorne sua resposta em bullets que cubram os pontos principais do texto.\n",
    "\n",
    "    ```{text}```\n",
    "\n",
    "    SUMARIO EM BULLETS:\n",
    "\"\"\", \"en\")"
   ]
  },
  {
   "cell_type": "markdown",
   "metadata": {
    "id": "x_xMwRLuyDrj"
   },
   "source": [
    "Here you will use LLM via the API to summarize the extracted texts. Please note that LLMs currently have input text limit and stuffing a large input text might not be accepted. You can read more about quotas and limits [here](https://cloud.google.com/vertex-ai/docs/quotas).\n",
    "\n",
    "The following code will cause **an exception**!"
   ]
  },
  {
   "cell_type": "code",
   "execution_count": 13,
   "metadata": {
    "id": "RtgemmBzkddX"
   },
   "outputs": [
    {
     "ename": "InvalidArgument",
     "evalue": "400 Text is too long. [field_violations {\n  field: \"contents\"\n  description: \"The total codepoints in the request must be less than 30720, actual: 39231\"\n}\n]",
     "output_type": "error",
     "traceback": [
      "\u001b[0;31m---------------------------------------------------------------------------\u001b[0m",
      "\u001b[0;31m_InactiveRpcError\u001b[0m                         Traceback (most recent call last)",
      "\u001b[0;32m~/.local/lib/python3.7/site-packages/google/api_core/grpc_helpers.py\u001b[0m in \u001b[0;36merror_remapped_callable\u001b[0;34m(*args, **kwargs)\u001b[0m\n\u001b[1;32m     71\u001b[0m         \u001b[0;32mtry\u001b[0m\u001b[0;34m:\u001b[0m\u001b[0;34m\u001b[0m\u001b[0;34m\u001b[0m\u001b[0m\n\u001b[0;32m---> 72\u001b[0;31m             \u001b[0;32mreturn\u001b[0m \u001b[0mcallable_\u001b[0m\u001b[0;34m(\u001b[0m\u001b[0;34m*\u001b[0m\u001b[0margs\u001b[0m\u001b[0;34m,\u001b[0m \u001b[0;34m**\u001b[0m\u001b[0mkwargs\u001b[0m\u001b[0;34m)\u001b[0m\u001b[0;34m\u001b[0m\u001b[0;34m\u001b[0m\u001b[0m\n\u001b[0m\u001b[1;32m     73\u001b[0m         \u001b[0;32mexcept\u001b[0m \u001b[0mgrpc\u001b[0m\u001b[0;34m.\u001b[0m\u001b[0mRpcError\u001b[0m \u001b[0;32mas\u001b[0m \u001b[0mexc\u001b[0m\u001b[0;34m:\u001b[0m\u001b[0;34m\u001b[0m\u001b[0;34m\u001b[0m\u001b[0m\n",
      "\u001b[0;32m/opt/conda/lib/python3.7/site-packages/grpc/_channel.py\u001b[0m in \u001b[0;36m__call__\u001b[0;34m(self, request, timeout, metadata, credentials, wait_for_ready, compression)\u001b[0m\n\u001b[1;32m   1029\u001b[0m                                       wait_for_ready, compression)\n\u001b[0;32m-> 1030\u001b[0;31m         \u001b[0;32mreturn\u001b[0m \u001b[0m_end_unary_response_blocking\u001b[0m\u001b[0;34m(\u001b[0m\u001b[0mstate\u001b[0m\u001b[0;34m,\u001b[0m \u001b[0mcall\u001b[0m\u001b[0;34m,\u001b[0m \u001b[0;32mFalse\u001b[0m\u001b[0;34m,\u001b[0m \u001b[0;32mNone\u001b[0m\u001b[0;34m)\u001b[0m\u001b[0;34m\u001b[0m\u001b[0;34m\u001b[0m\u001b[0m\n\u001b[0m\u001b[1;32m   1031\u001b[0m \u001b[0;34m\u001b[0m\u001b[0m\n",
      "\u001b[0;32m/opt/conda/lib/python3.7/site-packages/grpc/_channel.py\u001b[0m in \u001b[0;36m_end_unary_response_blocking\u001b[0;34m(state, call, with_call, deadline)\u001b[0m\n\u001b[1;32m    909\u001b[0m     \u001b[0;32melse\u001b[0m\u001b[0;34m:\u001b[0m\u001b[0;34m\u001b[0m\u001b[0;34m\u001b[0m\u001b[0m\n\u001b[0;32m--> 910\u001b[0;31m         \u001b[0;32mraise\u001b[0m \u001b[0m_InactiveRpcError\u001b[0m\u001b[0;34m(\u001b[0m\u001b[0mstate\u001b[0m\u001b[0;34m)\u001b[0m  \u001b[0;31m# pytype: disable=not-instantiable\u001b[0m\u001b[0;34m\u001b[0m\u001b[0;34m\u001b[0m\u001b[0m\n\u001b[0m\u001b[1;32m    911\u001b[0m \u001b[0;34m\u001b[0m\u001b[0m\n",
      "\u001b[0;31m_InactiveRpcError\u001b[0m: <_InactiveRpcError of RPC that terminated with:\n\tstatus = StatusCode.INVALID_ARGUMENT\n\tdetails = \"Text is too long.\"\n\tdebug_error_string = \"UNKNOWN:Error received from peer ipv4:74.125.142.95:443 {grpc_message:\"Text is too long.\", grpc_status:3, created_time:\"2023-06-26T23:26:57.516841117+00:00\"}\"\n>",
      "\nThe above exception was the direct cause of the following exception:\n",
      "\u001b[0;31mInvalidArgument\u001b[0m                           Traceback (most recent call last)",
      "\u001b[0;32m/var/tmp/ipykernel_21631/368933986.py\u001b[0m in \u001b[0;36m<module>\u001b[0;34m\u001b[0m\n\u001b[1;32m      1\u001b[0m \u001b[0;31m# Define the prompt using the prompt template\u001b[0m\u001b[0;34m\u001b[0m\u001b[0;34m\u001b[0m\u001b[0;34m\u001b[0m\u001b[0m\n\u001b[0;32m----> 2\u001b[0;31m \u001b[0mprompt\u001b[0m \u001b[0;34m=\u001b[0m \u001b[0mprompt_template\u001b[0m\u001b[0;34m.\u001b[0m\u001b[0mformat\u001b[0m\u001b[0;34m(\u001b[0m\u001b[0mtext\u001b[0m\u001b[0;34m=\u001b[0m\u001b[0mtraduza\u001b[0m\u001b[0;34m(\u001b[0m\u001b[0mconcatenated_text\u001b[0m\u001b[0;34m,\u001b[0m \u001b[0;34m\"en\"\u001b[0m\u001b[0;34m)\u001b[0m\u001b[0;34m)\u001b[0m\u001b[0;34m\u001b[0m\u001b[0;34m\u001b[0m\u001b[0m\n\u001b[0m\u001b[1;32m      3\u001b[0m \u001b[0;34m\u001b[0m\u001b[0m\n\u001b[1;32m      4\u001b[0m \u001b[0;31m# Use the model to summarize the text using the prompt\u001b[0m\u001b[0;34m\u001b[0m\u001b[0;34m\u001b[0m\u001b[0;34m\u001b[0m\u001b[0m\n\u001b[1;32m      5\u001b[0m \u001b[0msummary\u001b[0m \u001b[0;34m=\u001b[0m \u001b[0mtraduza\u001b[0m\u001b[0;34m(\u001b[0m\u001b[0mgeneration_model\u001b[0m\u001b[0;34m.\u001b[0m\u001b[0mpredict\u001b[0m\u001b[0;34m(\u001b[0m\u001b[0mprompt\u001b[0m\u001b[0;34m=\u001b[0m\u001b[0mprompt\u001b[0m\u001b[0;34m,\u001b[0m \u001b[0mmax_output_tokens\u001b[0m\u001b[0;34m=\u001b[0m\u001b[0;36m1024\u001b[0m\u001b[0;34m)\u001b[0m\u001b[0;34m.\u001b[0m\u001b[0mtext\u001b[0m\u001b[0;34m,\u001b[0m \u001b[0;34m\"pt\"\u001b[0m\u001b[0;34m)\u001b[0m\u001b[0;34m\u001b[0m\u001b[0;34m\u001b[0m\u001b[0m\n",
      "\u001b[0;32m/var/tmp/ipykernel_21631/1718337706.py\u001b[0m in \u001b[0;36mtraduza\u001b[0;34m(texto, idioma_destino)\u001b[0m\n\u001b[1;32m     13\u001b[0m         \u001b[0mcontents\u001b[0m\u001b[0;34m=\u001b[0m\u001b[0;34m[\u001b[0m\u001b[0mtexto\u001b[0m\u001b[0;34m]\u001b[0m\u001b[0;34m,\u001b[0m\u001b[0;34m\u001b[0m\u001b[0;34m\u001b[0m\u001b[0m\n\u001b[1;32m     14\u001b[0m         \u001b[0mtarget_language_code\u001b[0m\u001b[0;34m=\u001b[0m\u001b[0midioma_destino\u001b[0m\u001b[0;34m,\u001b[0m\u001b[0;34m\u001b[0m\u001b[0;34m\u001b[0m\u001b[0m\n\u001b[0;32m---> 15\u001b[0;31m         \u001b[0mmime_type\u001b[0m\u001b[0;34m=\u001b[0m\u001b[0;34m\"text/plain\"\u001b[0m\u001b[0;34m\u001b[0m\u001b[0;34m\u001b[0m\u001b[0m\n\u001b[0m\u001b[1;32m     16\u001b[0m     )\n\u001b[1;32m     17\u001b[0m \u001b[0;34m\u001b[0m\u001b[0m\n",
      "\u001b[0;32m~/.local/lib/python3.7/site-packages/google/cloud/translate_v3/services/translation_service/client.py\u001b[0m in \u001b[0;36mtranslate_text\u001b[0;34m(self, request, parent, target_language_code, contents, model, mime_type, source_language_code, retry, timeout, metadata)\u001b[0m\n\u001b[1;32m    643\u001b[0m             \u001b[0mretry\u001b[0m\u001b[0;34m=\u001b[0m\u001b[0mretry\u001b[0m\u001b[0;34m,\u001b[0m\u001b[0;34m\u001b[0m\u001b[0;34m\u001b[0m\u001b[0m\n\u001b[1;32m    644\u001b[0m             \u001b[0mtimeout\u001b[0m\u001b[0;34m=\u001b[0m\u001b[0mtimeout\u001b[0m\u001b[0;34m,\u001b[0m\u001b[0;34m\u001b[0m\u001b[0;34m\u001b[0m\u001b[0m\n\u001b[0;32m--> 645\u001b[0;31m             \u001b[0mmetadata\u001b[0m\u001b[0;34m=\u001b[0m\u001b[0mmetadata\u001b[0m\u001b[0;34m,\u001b[0m\u001b[0;34m\u001b[0m\u001b[0;34m\u001b[0m\u001b[0m\n\u001b[0m\u001b[1;32m    646\u001b[0m         )\n\u001b[1;32m    647\u001b[0m \u001b[0;34m\u001b[0m\u001b[0m\n",
      "\u001b[0;32m~/.local/lib/python3.7/site-packages/google/api_core/gapic_v1/method.py\u001b[0m in \u001b[0;36m__call__\u001b[0;34m(self, timeout, retry, *args, **kwargs)\u001b[0m\n\u001b[1;32m    111\u001b[0m             \u001b[0mkwargs\u001b[0m\u001b[0;34m[\u001b[0m\u001b[0;34m\"metadata\"\u001b[0m\u001b[0;34m]\u001b[0m \u001b[0;34m=\u001b[0m \u001b[0mmetadata\u001b[0m\u001b[0;34m\u001b[0m\u001b[0;34m\u001b[0m\u001b[0m\n\u001b[1;32m    112\u001b[0m \u001b[0;34m\u001b[0m\u001b[0m\n\u001b[0;32m--> 113\u001b[0;31m         \u001b[0;32mreturn\u001b[0m \u001b[0mwrapped_func\u001b[0m\u001b[0;34m(\u001b[0m\u001b[0;34m*\u001b[0m\u001b[0margs\u001b[0m\u001b[0;34m,\u001b[0m \u001b[0;34m**\u001b[0m\u001b[0mkwargs\u001b[0m\u001b[0;34m)\u001b[0m\u001b[0;34m\u001b[0m\u001b[0;34m\u001b[0m\u001b[0m\n\u001b[0m\u001b[1;32m    114\u001b[0m \u001b[0;34m\u001b[0m\u001b[0m\n\u001b[1;32m    115\u001b[0m \u001b[0;34m\u001b[0m\u001b[0m\n",
      "\u001b[0;32m~/.local/lib/python3.7/site-packages/google/api_core/timeout.py\u001b[0m in \u001b[0;36mfunc_with_timeout\u001b[0;34m(*args, **kwargs)\u001b[0m\n\u001b[1;32m    118\u001b[0m                 \u001b[0mkwargs\u001b[0m\u001b[0;34m[\u001b[0m\u001b[0;34m\"timeout\"\u001b[0m\u001b[0;34m]\u001b[0m \u001b[0;34m=\u001b[0m \u001b[0mmax\u001b[0m\u001b[0;34m(\u001b[0m\u001b[0;36m0\u001b[0m\u001b[0;34m,\u001b[0m \u001b[0mself\u001b[0m\u001b[0;34m.\u001b[0m\u001b[0m_timeout\u001b[0m \u001b[0;34m-\u001b[0m \u001b[0mtime_since_first_attempt\u001b[0m\u001b[0;34m)\u001b[0m\u001b[0;34m\u001b[0m\u001b[0;34m\u001b[0m\u001b[0m\n\u001b[1;32m    119\u001b[0m \u001b[0;34m\u001b[0m\u001b[0m\n\u001b[0;32m--> 120\u001b[0;31m             \u001b[0;32mreturn\u001b[0m \u001b[0mfunc\u001b[0m\u001b[0;34m(\u001b[0m\u001b[0;34m*\u001b[0m\u001b[0margs\u001b[0m\u001b[0;34m,\u001b[0m \u001b[0;34m**\u001b[0m\u001b[0mkwargs\u001b[0m\u001b[0;34m)\u001b[0m\u001b[0;34m\u001b[0m\u001b[0;34m\u001b[0m\u001b[0m\n\u001b[0m\u001b[1;32m    121\u001b[0m \u001b[0;34m\u001b[0m\u001b[0m\n\u001b[1;32m    122\u001b[0m         \u001b[0;32mreturn\u001b[0m \u001b[0mfunc_with_timeout\u001b[0m\u001b[0;34m\u001b[0m\u001b[0;34m\u001b[0m\u001b[0m\n",
      "\u001b[0;32m~/.local/lib/python3.7/site-packages/google/api_core/grpc_helpers.py\u001b[0m in \u001b[0;36merror_remapped_callable\u001b[0;34m(*args, **kwargs)\u001b[0m\n\u001b[1;32m     72\u001b[0m             \u001b[0;32mreturn\u001b[0m \u001b[0mcallable_\u001b[0m\u001b[0;34m(\u001b[0m\u001b[0;34m*\u001b[0m\u001b[0margs\u001b[0m\u001b[0;34m,\u001b[0m \u001b[0;34m**\u001b[0m\u001b[0mkwargs\u001b[0m\u001b[0;34m)\u001b[0m\u001b[0;34m\u001b[0m\u001b[0;34m\u001b[0m\u001b[0m\n\u001b[1;32m     73\u001b[0m         \u001b[0;32mexcept\u001b[0m \u001b[0mgrpc\u001b[0m\u001b[0;34m.\u001b[0m\u001b[0mRpcError\u001b[0m \u001b[0;32mas\u001b[0m \u001b[0mexc\u001b[0m\u001b[0;34m:\u001b[0m\u001b[0;34m\u001b[0m\u001b[0;34m\u001b[0m\u001b[0m\n\u001b[0;32m---> 74\u001b[0;31m             \u001b[0;32mraise\u001b[0m \u001b[0mexceptions\u001b[0m\u001b[0;34m.\u001b[0m\u001b[0mfrom_grpc_error\u001b[0m\u001b[0;34m(\u001b[0m\u001b[0mexc\u001b[0m\u001b[0;34m)\u001b[0m \u001b[0;32mfrom\u001b[0m \u001b[0mexc\u001b[0m\u001b[0;34m\u001b[0m\u001b[0;34m\u001b[0m\u001b[0m\n\u001b[0m\u001b[1;32m     75\u001b[0m \u001b[0;34m\u001b[0m\u001b[0m\n\u001b[1;32m     76\u001b[0m     \u001b[0;32mreturn\u001b[0m \u001b[0merror_remapped_callable\u001b[0m\u001b[0;34m\u001b[0m\u001b[0;34m\u001b[0m\u001b[0m\n",
      "\u001b[0;31mInvalidArgument\u001b[0m: 400 Text is too long. [field_violations {\n  field: \"contents\"\n  description: \"The total codepoints in the request must be less than 30720, actual: 39231\"\n}\n]"
     ]
    }
   ],
   "source": [
    "# Define the prompt using the prompt template\n",
    "prompt = prompt_template.format(text=traduza(concatenated_text, \"en\"))\n",
    "\n",
    "# Use the model to summarize the text using the prompt\n",
    "summary = traduza(generation_model.predict(prompt=prompt, max_output_tokens=1024).text, \"pt\")\n",
    "\n",
    "print(summary)"
   ]
  },
  {
   "cell_type": "markdown",
   "metadata": {
    "id": "N5aVrDWkJs3Y"
   },
   "source": [
    "#### Retrying\n",
    "\n",
    "The model responded with an error message: **400 Request contains an invalid argument** because the extracted text is too long for the generative model to process.\n",
    "\n",
    "To avoid this issue, you will only input a chunk of the extracted text (e.g. the first 30,000 words)."
   ]
  },
  {
   "cell_type": "code",
   "execution_count": 14,
   "metadata": {
    "id": "MmUwTIjMk58J"
   },
   "outputs": [
    {
     "name": "stdout",
     "output_type": "stream",
     "text": [
      "- Cloud Computing é uma tecnologia que está crescendo em popularidade.\n",
      "- A virtualização é uma tecnologia chave para Cloud Computing.\n",
      "- A tecnologia de virtualização cria uma série de desafios de segurança.\n",
      "- Não há uma maneira padrão de categorizar os desafios de segurança relacionados à tecnologia de virtualização.\n",
      "- Este relatório propõe uma nova maneira de categorizar os desafios de segurança relacionados à tecnologia de virtualização.\n",
      "- A categorização proposta baseia-se nos três pilares da segurança informática: disponibilidade, confidencialidade e integridade.\n",
      "- A categorização proposta mapeia os desafios de segurança para elementos de uma arquitetura tradicional de Cloud Computing.\n",
      "- A categorização proposta é simples, direta, sistemática e completa.\n"
     ]
    }
   ],
   "source": [
    "# Define the prompt using the prompt template\n",
    "prompt = prompt_template.format(text=traduza(concatenated_text[:30000], \"en\"))\n",
    "\n",
    "# Use the model to summarize the text using the prompt\n",
    "summary = traduza(generation_model.predict(prompt=prompt, max_output_tokens=1024).text, \"pt\")\n",
    "\n",
    "print(summary)"
   ]
  },
  {
   "cell_type": "markdown",
   "metadata": {
    "id": "Vtp21WX3T7d_"
   },
   "source": [
    "### Recap\n",
    "\n",
    "Although full text is too large for the model, you have managed to create a concise, bulleted list of the most important information from a portion of the PDF using the model. Thus, here are the pros and cons of using the stuffing method:\n",
    "\n",
    "**Pros:**\n",
    "- Only required a single call to the model.\n",
    "- When summarizing text, the model has access to all the data at once so that the result may be better.\n",
    "\n",
    "**Cons:**\n",
    "- Most models have a context length, and for large documents (or many documents) this will not work as it will result in a prompt larger than the context length.\n",
    "- This method only works on smaller pieces of data and not suitable to large documents most of the time.\n",
    "\n",
    "In the following session, you will explore approaches which designed to help deal with having longer text than context lengh limit of LLMs."
   ]
  },
  {
   "cell_type": "markdown",
   "metadata": {
    "id": "wOY5LHl9Js3Y"
   },
   "source": [
    "### Adding rate limit to model calls\n",
    "\n",
    "When you use MapReduce or other similar methods, you will be making multiple API calls to the model in a short period of time. There is a limit on the number of API calls you can make per minute, so you will need to add a safety measure to your code to prevent exceeding the limit. This will help to ensure that your code runs smoothly and does not encounter any errors.\n",
    "\n",
    "For this method, here are a few specific things that you will do:\n",
    "1. You will make use of a Python library called [ratelimit](https://pypi.org/project/ratelimit/) to limit the number of API calls per minute\n",
    "2. You will make use of a Python library called [backoff](https://pypi.org/project/backoff/) to retry until the maximum time limit has reached\n",
    "\n",
    "The following function improves the API call process by limiting the number of calls to **20 per minute**. It also back offs and retries calling the API after encountering **Resource Exhausted** exception. The wait duration grows **exponentially until the 5-minute mark**, and then the function will give up on retrying."
   ]
  },
  {
   "cell_type": "code",
   "execution_count": 15,
   "metadata": {
    "id": "0uziSPeEJs3Y"
   },
   "outputs": [],
   "source": [
    "CALL_LIMIT = 20  # Number of calls to allow within a period\n",
    "ONE_MINUTE = 60  # One minute in seconds\n",
    "FIVE_MINUTE = 5 * ONE_MINUTE\n",
    "\n",
    "# A function to print a message when the function is retrying\n",
    "def backoff_hdlr(details):\n",
    "    print(\n",
    "        \"Backing off {} seconds after {} tries\".format(\n",
    "            details[\"wait\"], details[\"tries\"]\n",
    "        )\n",
    "    )\n",
    "\n",
    "\n",
    "@backoff.on_exception(  # Retry with exponential backoff strategy when exceptions occur\n",
    "    backoff.expo,\n",
    "    (\n",
    "        exceptions.ResourceExhausted,\n",
    "        ratelimit.RateLimitException,\n",
    "    ),  # Exceptions to retry on\n",
    "    max_time=FIVE_MINUTE,\n",
    "    on_backoff=backoff_hdlr,  # Function to call when retrying\n",
    ")\n",
    "@ratelimit.limits(  # Limit the number of calls to the model per minute\n",
    "    calls=CALL_LIMIT, period=ONE_MINUTE\n",
    ")\n",
    "\n",
    "# This function will call the `generation_model.predict` function, but it will retry if defined exceptions occur.\n",
    "def model_with_limit_and_backoff(**kwargs):\n",
    "    return generation_model.predict(**kwargs)"
   ]
  },
  {
   "cell_type": "markdown",
   "metadata": {
    "id": "RM3V1JARZ9-k"
   },
   "source": [
    "## Method 2: MapReduce\n",
    "\n",
    "This method works by first splitting the large data into chunks, then running a prompt on each chunk of text. For summarization tasks, the output from the initial prompt would be a summary of that chunk. Once all the initial outputs have been generated, a different prompt is run to combine them.\n",
    "\n",
    "This method is a bit more complex than the first method, but it can be more effective for large datasets. Here you will prepare two prompt templates: one for the initial summary step and another for the final combine step. You will be using these two templates later in this notebook."
   ]
  },
  {
   "cell_type": "code",
   "execution_count": 16,
   "metadata": {
    "id": "fs4rmcL-Js3Y"
   },
   "outputs": [],
   "source": [
    "initial_prompt_template = traduza(\"\"\"\n",
    "    Escreva um sumário conciso sobre o texto abaixo delimitado por três aspas invertidas.\n",
    "\n",
    "    ```{text}```\n",
    "\n",
    "    SUMARIO CONCISO:\n",
    "\"\"\", \"en\")\n",
    "\n",
    "final_prompt_template = traduza(\"\"\"\n",
    "    Escreva um cenário conciso do texto abaixo delimitdo por aspas invertidas.\n",
    "    Retorne sua resposta em bullets que cubram os pontos principais do texto.\n",
    "\n",
    "    ```{text}```\n",
    "\n",
    "    SUMARIO EM BULLETS:\n",
    "\"\"\", \"en\")"
   ]
  },
  {
   "cell_type": "markdown",
   "metadata": {
    "id": "eo5NkotOJs3Y"
   },
   "source": [
    "#### Map step\n",
    "\n",
    "In this section, you will read the PDF file again and use the model to summarize each page individually using the initial prompt template."
   ]
  },
  {
   "cell_type": "code",
   "execution_count": 17,
   "metadata": {
    "id": "aRub85PIJs3Y"
   },
   "outputs": [
    {
     "name": "stderr",
     "output_type": "stream",
     "text": [
      " 80%|████████  | 20/25 [00:41<00:10,  2.12s/it]"
     ]
    },
    {
     "name": "stdout",
     "output_type": "stream",
     "text": [
      "Backing off 0.40881491390959934 seconds after 1 tries\n",
      "Backing off 0.09398439018053617 seconds after 2 tries\n",
      "Backing off 1.2653382979372685 seconds after 3 tries\n",
      "Backing off 5.524524880784982 seconds after 4 tries\n",
      "Backing off 6.075871890268356 seconds after 5 tries\n",
      "Backing off 27.36901061349193 seconds after 6 tries\n"
     ]
    },
    {
     "name": "stderr",
     "output_type": "stream",
     "text": [
      "100%|██████████| 25/25 [01:33<00:00,  3.73s/it]\n"
     ]
    }
   ],
   "source": [
    "# Read the PDF file and create a list of pages\n",
    "reader = PyPDF2.PdfReader(pdf_file)\n",
    "pages = reader.pages\n",
    "\n",
    "# Create an empty list to store the summaries\n",
    "initial_summary = []\n",
    "\n",
    "# Iterate over the pages and generate a summary for each page\n",
    "for page in tqdm(pages):\n",
    "\n",
    "    # Extract the text from the page and remove any leading or trailing whitespace\n",
    "    text = traduza(page.extract_text().strip(), \"en\")\n",
    "\n",
    "    # Create a prompt for the model using the extracted text and a prompt template\n",
    "    prompt = initial_prompt_template.format(text=text)\n",
    "\n",
    "    # Generate a summary using the model and the prompt\n",
    "    summary = model_with_limit_and_backoff(prompt=prompt, max_output_tokens=1024).text\n",
    "\n",
    "    # Append the summary to the list of summaries\n",
    "    initial_summary.append(summary)"
   ]
  },
  {
   "cell_type": "markdown",
   "metadata": {
    "id": "pLLAUkuNDLbp"
   },
   "source": [
    "Take a look at the first few summaries of from the initial Map phrase."
   ]
  },
  {
   "cell_type": "code",
   "execution_count": 18,
   "metadata": {
    "id": "i3CpkQtgJs3Z"
   },
   "outputs": [
    {
     "name": "stdout",
     "output_type": "stream",
     "text": [
      "```\n",
      "UNIVERSIDADE ESTADUAL DE CAMPINAS\n",
      "INSTITUTO DE COMPUTAÇÃO\n",
      "Categorização de Desafios\n",
      "Segurança na Nuvem\n",
      "relacionado a tecnologia\n",
      "virtualização\n",
      "MG Andrietta P. L. Geus\n",
      "Relatório Técnico - IC-PFG-21-52\n",
      "Projeto Final de Graduação\n",
      "2021 - dezembro\n",
      "O conteúdo deste relatório é de responsabilidade exclusiva dos autores.\n",
      "O conteúdo deste relatório é de responsabilidade exclusiva dos autores.\n",
      "```\n",
      "\n",
      "\n",
      "A computação em nuvem é um campo em rápido crescimento, e a tecnologia de virtualização é essencial para seu sucesso. No entanto, a segurança ainda é uma grande preocupação para muitas organizações que estão pensando em migrar para a nuvem. Este artigo propõe uma nova maneira de categorizar os desafios de segurança na nuvem, especificamente aqueles relacionados à virtualização.\n",
      "\n",
      "Nos últimos anos, a computação em nuvem tornou-se cada vez mais popular.\n",
      "De fato, 77% das empresas do setor de tecnologia já possuem alguma parte de sua infraestrutura instalada com um provedor de nuvem.\n",
      "Algumas das principais plataformas que oferecem serviços Cloud são Microsoft Azure, Amazon AWS, Google Cloud e IBM Cloud.\n",
      "\n",
      "```\n",
      "O Cloud Computing deve ter como características essenciais o amplo acesso à rede, uma capacidade intrínseca de elasticidade, a possibilidade de medir o uso de recursos, uma oferta sob demanda e, finalmente, uma arquitetura de oferta de recursos e serviços multilocatário.\n",
      "```\n",
      "\n",
      "Cloud Computing é uma tecnologia em franca ascensão.\n",
      "Existem três Modelos de Serviço disponíveis no momento da compra: IaaS, PaaS e SaaS.\n",
      "Existem também quatro Modelos de Implantação: Nuvem Pública, Privada, Comunitária e Híbrida.\n",
      "A virtualização é uma tecnologia que possibilita a existência de toda a arquitetura Cloud.\n",
      "\n",
      "A virtualização é uma tecnologia que permite que vários sistemas operacionais sejam executados no mesmo hardware físico. Possui inúmeras vantagens para usuários e provedores de serviços, como melhor gerenciamento de energia, melhor uso de recursos, balanceamento de carga, manutenção, maior disponibilidade de sistemas e isolamento.\n",
      "Os provedores de nuvem estão interessados ​​em adotar a virtualização porque ela permite que eles ofereçam serviços minimamente coesos, isolados e encapsulados em um ambiente multilocatário. A virtualização também permite a alocação e modificação dinâmica de várias máquinas virtuais com base em um único host físico ou a migração de uma única máquina virtual entre diferentes hosts. Essas características são extremamente importantes para oferecer soluções escaláveis, elásticas e sob demanda.\n",
      "\n",
      "A virtualização pode estar presente em praticamente todos os recursos computacionais. A divisão da Figura 3 é inclusive bastante abrangente e leva o conceito discutido além dos limites da Computação em Nuvem. Só para ficar um pouco mais didático, é importante mencionar que a seção mapeada como Nível de Hardware/Sistema é tradicionalmente a mais aplicada do ponto de vista de Provedores de Serviços Cloud. Nesse escopo, a Virtualização Completa compreende uma simulação completa de todo o hardware, incluindo instruções privilegiadas, interrupções, acesso à memória e assim por diante. Todos esses elementos seriam executados diretamente por máquinas virtuais. No For-Virtualization, por sua vez, é disponibilizada uma interface de software para as Máquinas Virtuais, sendo estas últimas muito semelhantes, mas não idênticas ao hardware. Finalmente, quando se fala em Virtualização Assistida por Hardware, faz-se referência a um suporte arquitetural de hardware que permite a execução de Máquinas Virtuais de forma mais eficiente.\n",
      "\n",
      "A virtualização é uma tecnologia fundamental para a computação em nuvem, mas também há questões de segurança que precisam ser abordadas.\n",
      "\n",
      "Muitos pesquisadores que se concentram nos desafios de segurança na nuvem não classificaram as ameaças estudadas de forma padronizada e sistemática.\n",
      "\n",
      "```\n",
      "Figura 5 – Apresentação das vulnerabilidades relacionadas à virtualização e computação\n",
      "em Cloud de Compastié, Badonnel, Festor e He [16].\n",
      "Figura 6 – Apresentação de ataques relacionados à virtualização e computação em nuvem\n",
      "por Compastié, Badonnel, Festor e He [16].\n",
      "```\n"
     ]
    }
   ],
   "source": [
    "print(traduza(\"\\n\\n\".join(initial_summary[:10]), \"pt\"))"
   ]
  },
  {
   "cell_type": "markdown",
   "metadata": {
    "id": "KlPC414VJs3Z"
   },
   "source": [
    "Here you will count the number of characters in the initial summary to see if they are small enough to fit in a prompt."
   ]
  },
  {
   "cell_type": "code",
   "execution_count": 19,
   "metadata": {
    "id": "GtetmxSRJs3Z"
   },
   "outputs": [
    {
     "data": {
      "text/plain": [
       "10280"
      ]
     },
     "execution_count": 19,
     "metadata": {},
     "output_type": "execute_result"
    }
   ],
   "source": [
    "len(\"\\n\".join(initial_summary))"
   ]
  },
  {
   "cell_type": "markdown",
   "metadata": {
    "id": "TRAxL2PxJs3Z"
   },
   "source": [
    "As you managed to input 30,000 characters in a prompt previously, you can input this whole summary which has fewer characters to a prompt directly too. You will do that in the next step."
   ]
  },
  {
   "cell_type": "markdown",
   "metadata": {
    "id": "bdgZs93AJs3Z"
   },
   "source": [
    "#### Reduce step\n",
    "\n",
    "Here you will create a reduce function that concatenate the summaries from the inital summarization step (Map step) and use the final prompt template to summarize the summaries again."
   ]
  },
  {
   "cell_type": "code",
   "execution_count": 20,
   "metadata": {
    "id": "QS4caPjNJs3Z"
   },
   "outputs": [],
   "source": [
    "# Define a function to create a summary of the summaries\n",
    "def reduce(summary, prompt_template):\n",
    "\n",
    "    # Concatenate the summaries from the inital step\n",
    "    concat_summary = \"\\n\".join(initial_summary)\n",
    "\n",
    "    # Create a prompt for the model using the concatenated text and a prompt template\n",
    "    prompt = prompt_template.format(text=concat_summary)\n",
    "\n",
    "    # Generate a summary using the model and the prompt\n",
    "    summary = model_with_limit_and_backoff(prompt=prompt, max_output_tokens=1024).text\n",
    "\n",
    "    return summary"
   ]
  },
  {
   "cell_type": "markdown",
   "metadata": {
    "id": "9OxwetDgKoUg"
   },
   "source": [
    "You are ready to proceed on to the next step to combine all the summary into an even smaller summary using the final prompt template and the function that you created earlier."
   ]
  },
  {
   "cell_type": "code",
   "execution_count": 21,
   "metadata": {
    "id": "uvd7MUrSKfu-"
   },
   "outputs": [
    {
     "name": "stdout",
     "output_type": "stream",
     "text": [
      "- A computação em nuvem é um campo em rápido crescimento e a tecnologia de virtualização é essencial para seu sucesso.\n",
      "- A virtualização é uma tecnologia que permite que vários sistemas operacionais sejam executados no mesmo hardware físico.\n",
      "- Os provedores de nuvem estão interessados ​​em adotar a virtualização porque ela permite que eles ofereçam serviços minimamente coesos, isolados e encapsulados em um ambiente multilocatário.\n",
      "- A virtualização é uma tecnologia fundamental para a computação em nuvem, mas também há questões de segurança que precisam ser abordadas.\n",
      "- Muitos pesquisadores que se concentram nos desafios de segurança na nuvem não classificaram as ameaças estudadas de forma padronizada e sistemática.\n",
      "- Este artigo propõe uma categorização dos desafios de segurança na computação em nuvem, especificamente relacionados à tecnologia de virtualização.\n",
      "- A classificação é simples, direta, sistemática e completa.\n",
      "- A categorização proposta foi elaborada com base em um conjunto de levantamentos bibliográficos.\n",
      "- A construção da categorização dos desafios de segurança em Computação em\n",
      "A nuvem, especificamente relacionada à tecnologia de virtualização, foi baseada principalmente em\n",
      "a tríade de segurança informática: Disponibilidade, Confidencialidade e Integridade.\n",
      "- A categorização proposta de desafios de segurança na nuvem é simples e sistemática. Ele pode ser usado para padronizar a apresentação de problemas existentes e futuros dentro do escopo considerado.\n"
     ]
    }
   ],
   "source": [
    "# Use defined `reduce` function to summarize the summaries\n",
    "summary = reduce(initial_summary, final_prompt_template)\n",
    "\n",
    "print(traduza(summary, \"pt\"))"
   ]
  },
  {
   "cell_type": "markdown",
   "metadata": {
    "id": "AjkbEdTYJs3Z"
   },
   "source": [
    "#### Recap\n",
    "\n",
    "You just summarized the whole paper into a few bullet points using the MapReduce method. Here are the pros and cons of using such method:\n",
    "\n",
    "**Pros:**\n",
    "- Can summarize a large document\n",
    "- Can work well with parallel processing as the processes to summarize pages are independent to each other\n",
    "\n",
    "**Cons:**\n",
    "- Multiple calls to the model is needed\n",
    "- As the pages are summarized individually, the context between the pages could be loss\n",
    "\n",
    "\n",
    "In the next section, you will try another method which makes use of more than one chunk (page) per prompt to summarize."
   ]
  },
  {
   "cell_type": "markdown",
   "metadata": {
    "id": "rpQV6viOlUgH"
   },
   "source": [
    "## Method 3: MapReduce with Overlapping Chunks\n",
    "\n",
    "It is similar to MapReduce, but with one key difference: overlapping chunks. This means that a few pages will be summarized together, rather than each page being summarized separately. This helps to preserve more context or information between chunks, which can improve the accuracy of the results.\n",
    "\n",
    "It is important to note that combining chunks may sometimes exceed the token limit imposed by the model. If this occurs, you can either implement the chunk splitting method showor creatively solve the issue (e.g. removing a few initial chunks)."
   ]
  },
  {
   "cell_type": "markdown",
   "metadata": {
    "id": "SiPq5CqJJs3c"
   },
   "source": [
    "#### Map step\n",
    "\n",
    "In this section, you will read the PDF file again and use the model to summarize <b>a few pages</b> together using the initial prompt template that you defined earlier."
   ]
  },
  {
   "cell_type": "code",
   "execution_count": 22,
   "metadata": {
    "id": "ux6pPmPoJs3c"
   },
   "outputs": [
    {
     "name": "stderr",
     "output_type": "stream",
     "text": [
      "100%|██████████| 25/25 [00:27<00:00,  1.10s/it]\n"
     ]
    }
   ],
   "source": [
    "# Read the PDF file and create a list of pages\n",
    "reader = PyPDF2.PdfReader(pdf_file)\n",
    "pages = reader.pages\n",
    "\n",
    "# Create an empty list to store the extracted text from the pages\n",
    "text_from_pages = []\n",
    "\n",
    "# Iterate over the pages and generate a summary for each page\n",
    "for page in tqdm(pages):\n",
    "\n",
    "    # Extract the text from the page and remove any leading or trailing whitespace\n",
    "    text = traduza(page.extract_text().strip(), \"en\")\n",
    "\n",
    "    # Append the extracted text to the list of extracted text\n",
    "    text_from_pages.append(text)"
   ]
  },
  {
   "cell_type": "markdown",
   "metadata": {
    "id": "ZD7HMdQgXuP0"
   },
   "source": [
    "Here you will define the chunk size (number of pages to combine in this example) and summarize the chunks."
   ]
  },
  {
   "cell_type": "code",
   "execution_count": 23,
   "metadata": {
    "id": "ZOA0Aq1nJs3c"
   },
   "outputs": [
    {
     "name": "stderr",
     "output_type": "stream",
     "text": [
      " 56%|█████▌    | 14/25 [00:12<00:09,  1.17it/s]"
     ]
    },
    {
     "name": "stdout",
     "output_type": "stream",
     "text": [
      "Backing off 0.6760637274195608 seconds after 1 tries\n",
      "Backing off 1.096445949176078 seconds after 2 tries\n",
      "Backing off 3.549740242112873 seconds after 3 tries\n"
     ]
    },
    {
     "name": "stderr",
     "output_type": "stream",
     "text": [
      "100%|██████████| 25/25 [00:29<00:00,  1.18s/it]\n"
     ]
    }
   ],
   "source": [
    "CHUNK_SIZE = 2  # number of overlapping pages\n",
    "\n",
    "# Read the PDF file and create a list of pages\n",
    "reader = PyPDF2.PdfReader(pdf_file)\n",
    "pages = reader.pages\n",
    "\n",
    "# Create an empty list to store the summaries\n",
    "initial_summary = []\n",
    "\n",
    "# Iterate over the pages and generate a summary for a few pages as one chunk based on `CHUNK_SIZE`\n",
    "for i in tqdm(range(len(pages))):\n",
    "\n",
    "    # Select a list of pages to merge as one chunk\n",
    "    pages_to_merge = [x for x in range(i, i + CHUNK_SIZE) if x < len(pages)]\n",
    "\n",
    "    extracted_texts = [text_from_pages[x] for x in pages_to_merge]\n",
    "\n",
    "    # Concatenate the\n",
    "    text = \"\\n\".join(extracted_texts)\n",
    "\n",
    "    # Create a prompt for the model using the concatenated text and a prompt template\n",
    "    prompt = initial_prompt_template.format(text=text)\n",
    "\n",
    "    # Generate a summary using the model and the prompt\n",
    "    summary = model_with_limit_and_backoff(prompt=prompt, max_output_tokens=1024).text\n",
    "\n",
    "    # Append the summary to the list of summaries\n",
    "    initial_summary.append(summary)\n",
    "\n",
    "    # If the last page is reached, break the loop\n",
    "    if pages_to_merge[-1] == len(reader.pages):\n",
    "        break"
   ]
  },
  {
   "cell_type": "markdown",
   "metadata": {
    "id": "KVUVGBfbekfL"
   },
   "source": [
    "Take a look at the first few summaries of from the initial Map phrase."
   ]
  },
  {
   "cell_type": "code",
   "execution_count": 24,
   "metadata": {
    "id": "uxgPKJ7BefyX"
   },
   "outputs": [
    {
     "name": "stdout",
     "output_type": "stream",
     "text": [
      "Este relatório propõe uma nova forma de categorizar os desafios de segurança na Nuvem, especificamente relacionados à Virtualização, de forma simples e sistemática.\n",
      "\n",
      "A computação em nuvem é uma arquitetura popular que oferece muitos benefícios, mas a segurança ainda é uma preocupação. Este artigo propõe uma nova maneira de categorizar os desafios de segurança na nuvem relacionados à virtualização.\n",
      "\n",
      "Nos últimos anos, a computação em nuvem tornou-se cada vez mais popular.\n",
      "Empresas em vários setores estão lutando para justificar a propriedade de seu próprio hardware, enquanto a computação em nuvem continua a crescer como uma solução para atender às suas necessidades computacionais.\n",
      "Algumas das principais plataformas que oferecem serviços Cloud são Microsoft Azure, Amazon AWS, Google Cloud e IBM Cloud.\n",
      "Em termos de conceituação básica, Ali, Khan e Vasilakos utilizaram o National Institute of Standards and Technology (NIST) para trazer a Figura 2, abaixo, e resumir as principais características, modelos de desenvolvimento e oferta de serviços em Cloud.\n",
      "\n",
      "Cloud Computing é uma tecnologia em franca ascensão. Possui cinco características essenciais:\n",
      "amplo acesso à rede, elasticidade, possibilidade de mensurar o uso de recursos,\n",
      "oferta sob demanda e uma arquitetura para oferta de recursos multilocatários e compartilhados.\n",
      "Existem três modelos de serviço: IaaS, PaaS e SaaS.\n",
      "Existem quatro modelos de implantação: Público, Privado, Comunitário e Híbrido.\n",
      "A virtualização é uma tecnologia que possibilita a existência de toda a arquitetura Cloud.\n",
      "\n",
      "Cloud Computing é uma tecnologia em franca ascensão.\n",
      "Existem três modelos de serviço disponíveis no momento da compra: IaaS, PaaS e SaaS.\n",
      "Existem quatro modelos de implantação: Público, Privado, Comunitário e Híbrido.\n",
      "A virtualização é uma tecnologia que possibilita a existência de toda a arquitetura Cloud.\n",
      "Tem inúmeras vantagens tanto para os usuários quanto para os provedores de serviços.\n",
      "\n",
      "Virtualização é o uso de recursos computacionais para imitar outros recursos computacionais ou um computador inteiro.\n",
      "Possui inúmeras vantagens tanto para os usuários quanto para os provedores de serviços, como a possibilidade de rodar vários sistemas operacionais no mesmo hardware físico, melhor gerenciamento de energia, melhor aproveitamento dos recursos, possibilidade de balanceamento de carga, manutenção, aumento da disponibilidade dos sistemas e isolamento.\n",
      "A virtualização pode estar presente em praticamente todos os recursos computacionais. O tipo de virtualização mais aplicado do ponto de vista dos provedores de serviços em nuvem é a virtualização completa, que compreende uma simulação completa de todo o hardware incluindo instruções privilegiadas, interrupções, acesso à memória e assim por diante.\n",
      "\n",
      "A virtualização é uma tecnologia que permite que vários sistemas operacionais sejam executados em um único servidor físico.\n",
      "Existem três tipos de virtualização: completa, para e assistida por hardware.\n",
      "A virtualização completa fornece uma simulação completa de todo o hardware, incluindo instruções privilegiadas, interrupções, acesso à memória e assim por diante.\n",
      "A paravirtualização fornece uma interface de software para as máquinas virtuais, que são muito semelhantes, mas não idênticas ao hardware.\n",
      "A virtualização assistida por hardware fornece suporte arquitetônico de hardware para criar um hipervisor que executa um sistema operacional convidado de maneira isolada.\n",
      "A computação em nuvem é um modelo para permitir o acesso de rede onipresente, conveniente e sob demanda a um conjunto compartilhado de recursos de computação configuráveis ​​(por exemplo, redes, servidores, armazenamento, aplicativos e serviços) que podem ser rapidamente provisionados e liberados com mínimo esforço de gerenciamento ou interação do provedor de serviço.\n",
      "A computação em nuvem não está sendo adotada por todas as indústrias em potencial devido a questões de segurança.\n",
      "Existe uma enorme quantidade de vulnerabilidades e ataques possíveis no ambiente Cloud.\n",
      "Isso acontece por inúmeros motivos, mas talvez o principal seja o rico e vasto ecossistema computacional necessário para viabilizar a prestação de serviços na Nuvem.\n",
      "\n",
      "A virtualização é uma tecnologia que permite que vários sistemas operacionais sejam executados em um único servidor físico.\n",
      "A computação em nuvem é um modelo para permitir o acesso de rede onipresente, conveniente e sob demanda a um conjunto compartilhado de recursos de computação configuráveis ​​(por exemplo, redes, servidores, armazenamento, aplicativos e serviços) que podem ser rapidamente provisionados e liberados com mínimo esforço de gerenciamento ou interação do provedor de serviço.\n",
      "Há uma série de desafios de segurança associados à virtualização e à computação em nuvem. Isso inclui vulnerabilidades no hypervisor, no monitor de máquina virtual (VMM) e na máquina virtual (VM).\n",
      "Não há consenso sobre como classificar os desafios de segurança na computação em nuvem. Alguns pesquisadores propuseram diferentes categorizações.\n",
      "\n",
      "O número de vulnerabilidades presentes em uma nuvem é estatisticamente muito alto. Muitos pesquisadores que se concentram nos desafios de segurança (aqui especificamente relacionados à tecnologia de virtualização) não classificaram as ameaças estudadas de forma padronizada e sistemática.\n",
      "\n",
      "Não existe uma forma padrão de apresentar problemas de segurança na Nuvem, relacionados à tecnologia de Virtualização.\n"
     ]
    }
   ],
   "source": [
    "print(traduza(\"\\n\\n\".join(initial_summary[:10]), \"pt\"))"
   ]
  },
  {
   "cell_type": "markdown",
   "metadata": {
    "id": "oL7aV6U2Js3d"
   },
   "source": [
    "#### Reduce step\n",
    "\n",
    "You are ready to proceed on to the next step to combine all the summary into an even smaller summary using the final prompt template and the function that you created earlier."
   ]
  },
  {
   "cell_type": "code",
   "execution_count": 25,
   "metadata": {
    "id": "AxqSucUgJs3d"
   },
   "outputs": [
    {
     "name": "stdout",
     "output_type": "stream",
     "text": [
      "- A computação em nuvem é uma tecnologia em franca ascensão.\n",
      " - Existem três modelos de serviço disponíveis no momento da compra: IaaS, PaaS e SaaS.\n",
      " - São quatro modelos de implantação: Público, Privado, Comunitário e Híbrido.\n",
      " - A virtualização é uma tecnologia que possibilita a existência de toda a arquitetura Cloud.\n",
      " - Possui inúmeras vantagens tanto para os usuários quanto para os prestadores de serviços.\n",
      " - Virtualização é o uso de recursos computacionais para imitar outros recursos computacionais ou um computador inteiro.\n",
      " - Possui inúmeras vantagens tanto para os usuários quanto para os provedores de serviços, como a possibilidade de rodar vários sistemas operacionais no mesmo hardware físico, melhor gerenciamento de energia, melhor aproveitamento dos recursos, possibilidade de balanceamento de carga, manutenção, aumento da disponibilidade dos sistemas e isolamento.\n",
      " - A virtualização pode estar presente em praticamente todos os recursos computacionais. O tipo de virtualização mais aplicado do ponto de vista dos provedores de serviços em nuvem é a virtualização completa, que compreende uma simulação completa de todo o hardware, incluindo instruções privilegiadas, interrupções, acesso à memória e assim por diante.\n"
     ]
    }
   ],
   "source": [
    "# Use defined `reduce` function to summarize the summaries\n",
    "summary = reduce(initial_summary, final_prompt_template)\n",
    "\n",
    "print(traduza(summary, \"pt\"))"
   ]
  },
  {
   "cell_type": "markdown",
   "metadata": {
    "id": "V6UpRIozJs3d"
   },
   "source": [
    "#### Recap\n",
    "\n",
    "The model was able to summary the whole paper into a few bullet points using the MapReduce with Overlapping Chunks method. Here are the pros and cons of using such method:\n",
    "\n",
    "**Pros:**\n",
    "- Can summarize a large document\n",
    "- As the sequential pages are summarized together, the context between the pages are preserved\n",
    "- Can use parallel processing as the results are independent to each other\n",
    "\n",
    "**Cons:**\n",
    "- Multiple calls to the model is needed\n",
    "- Slightly slower than pure MapReduce method\n",
    "- Create larger input text\n",
    "\n",
    "\n",
    "In the next section, you will try a different approach that make use of a summary from the previous page instead of the entire text."
   ]
  },
  {
   "cell_type": "markdown",
   "metadata": {
    "id": "fFqa_qCmJs3d"
   },
   "source": [
    "## Method 4: MapReduce with Rolling Summary (Refine)\n",
    "\n",
    "On some occasions, combining a few pages might be too large to summarize. To resolve that issue, you will now a different approach that uses an initial summary from the previous step along with the next page to summarize each prompt. This helps to ensure that the summary is complete and accurate, as it takes into account the context of the previous page."
   ]
  },
  {
   "cell_type": "code",
   "execution_count": 26,
   "metadata": {
    "id": "zfK3SQMSJs3d"
   },
   "outputs": [],
   "source": [
    "initial_prompt_template = traduza(\"\"\"\n",
    "    Levando em consideração o contexto abaixo, delimitado por aspas invertidas triplas:\n",
    "\n",
    "    ```{context}```\n",
    "\n",
    "    Escreva um sumário conciso sobre o seguinte texto delimitado por aspas invertidas.\n",
    "\n",
    "    ```{text}```\n",
    "\n",
    "    SUMÁRIO CONCISO:\n",
    "\"\"\", \"en\")"
   ]
  },
  {
   "cell_type": "code",
   "execution_count": 27,
   "metadata": {
    "id": "9sCN849gJs3d"
   },
   "outputs": [
    {
     "name": "stderr",
     "output_type": "stream",
     "text": [
      " 32%|███▏      | 8/25 [00:17<00:40,  2.40s/it]"
     ]
    },
    {
     "name": "stdout",
     "output_type": "stream",
     "text": [
      "Backing off 0.13016626116645247 seconds after 1 tries\n",
      "Backing off 1.5822510633823128 seconds after 2 tries\n",
      "Backing off 0.07123886737655605 seconds after 3 tries\n",
      "Backing off 3.1590057554721716 seconds after 4 tries\n",
      "Backing off 12.627177942862355 seconds after 5 tries\n",
      "Backing off 23.72472707586244 seconds after 6 tries\n"
     ]
    },
    {
     "name": "stderr",
     "output_type": "stream",
     "text": [
      "100%|██████████| 25/25 [01:32<00:00,  3.70s/it]\n"
     ]
    }
   ],
   "source": [
    "# Read the PDF file and create a list of pages.\n",
    "reader = PyPDF2.PdfReader(pdf_file)\n",
    "pages = reader.pages\n",
    "\n",
    "# Create an empty list to store the summaries.\n",
    "initial_summary = []\n",
    "\n",
    "# Iterate over the pages and generate a summary\n",
    "for idx, page in enumerate(tqdm(pages)):\n",
    "\n",
    "    # Extract the text from the page and remove any leading or trailing whitespace.\n",
    "    text = traduza(page.extract_text().strip(), \"en\")\n",
    "\n",
    "    if idx == 0:  # if current page is the first page, no previous context\n",
    "        prompt = initial_prompt_template.format(context=\"\", text=text)\n",
    "\n",
    "    else:  # if current page is not the first page, previous context is the summary of the previous page\n",
    "        prompt = initial_prompt_template.format(\n",
    "            context=initial_summary[idx - 1], text=text\n",
    "        )\n",
    "\n",
    "    # Generate a summary using the model and the prompt\n",
    "    summary = model_with_limit_and_backoff(prompt=prompt, max_output_tokens=1024).text\n",
    "\n",
    "    # Append the summary to the list of summaries\n",
    "    initial_summary.append(summary)"
   ]
  },
  {
   "cell_type": "markdown",
   "metadata": {
    "id": "NJ3cOxWOJs3d"
   },
   "source": [
    "Here you will list out a few entries from the initial summary list."
   ]
  },
  {
   "cell_type": "code",
   "execution_count": 28,
   "metadata": {
    "id": "L5yOZikVJs3d"
   },
   "outputs": [
    {
     "name": "stdout",
     "output_type": "stream",
     "text": [
      "Este é um relatório técnico sobre a categorização dos desafios relacionados à segurança e virtualização da nuvem.\n",
      "\n",
      "Este relatório técnico propõe uma nova maneira de categorizar os desafios de segurança na nuvem, especificamente relacionados à virtualização.\n",
      "\n",
      "A computação em nuvem é uma maneira popular de atender às necessidades computacionais. As empresas que usam serviços de nuvem obtêm benefícios como redução de custos, maior agilidade e maior escalabilidade. Algumas das principais plataformas que oferecem serviços em nuvem são Microsoft Azure, Amazon AWS, Google Cloud e IBM Cloud.\n",
      "\n",
      "A computação em nuvem é uma maneira popular de atender às necessidades computacionais. As empresas que usam serviços de nuvem obtêm benefícios como redução de custos, maior agilidade e maior escalabilidade. Algumas das principais plataformas que oferecem serviços em nuvem são Microsoft Azure, Amazon AWS, Google Cloud e IBM Cloud.\n",
      "\n",
      "A computação em nuvem possui cinco características essenciais: amplo acesso à rede, elasticidade, possibilidade de mensuração do uso de recursos, oferta sob demanda e arquitetura para oferta de recursos e serviços multilocatários.\n",
      "\n",
      "A computação em nuvem é uma maneira popular de atender às necessidades computacionais. As empresas que usam serviços de nuvem obtêm benefícios como redução de custos, maior agilidade e maior escalabilidade. Algumas das principais plataformas que oferecem serviços em nuvem são Microsoft Azure, Amazon AWS, Google Cloud e IBM Cloud.\n",
      "\n",
      "A computação em nuvem possui cinco características essenciais: amplo acesso à rede, elasticidade, possibilidade de mensuração do uso de recursos, oferta sob demanda e arquitetura para oferta de recursos e serviços multilocatários.\n",
      "\n",
      "Os Modelos de Serviço disponíveis no momento da compra partem de um\n",
      "arquitetura contendo apenas recursos de infraestrutura (como processamento, memória, rede\n",
      "e outros componentes fundamentais) conhecido como IaaS, passa por uma opção trazendo\n",
      "um ambiente dedicado ao desenvolvimento de software (tendo assim, além da\n",
      "componentes básicos, também bibliotecas, linguagens de programação, etc.)\n",
      "PaaS e, finalmente, leva para o próximo nível com opções de aplicativos pré-empacotados que\n",
      "pode ser utilizado para diversos fins, o modelo SaaS.\n",
      "\n",
      " A virtualização é uma tecnologia que permite que vários sistemas operacionais sejam executados no mesmo hardware físico. Ele oferece muitas vantagens para usuários e provedores de serviços, como melhor gerenciamento de energia, melhor uso de recursos, balanceamento de carga, manutenção, maior disponibilidade de sistemas e isolamento.\n",
      "Os provedores de nuvem usam a virtualização para oferecer soluções escaláveis, elásticas e sob demanda.\n",
      "\n",
      "A virtualização é uma tecnologia que permite que vários sistemas operacionais sejam executados no mesmo hardware físico. Ele oferece muitas vantagens para usuários e provedores de serviços, como melhor gerenciamento de energia, melhor uso de recursos, balanceamento de carga, manutenção, maior disponibilidade de sistemas e isolamento.\n",
      "Os provedores de nuvem usam a virtualização para oferecer soluções escaláveis, elásticas e sob demanda.\n",
      "Existem três tipos de virtualização: virtualização completa, para-virtualização e virtualização assistida por hardware.\n",
      "\n",
      " A virtualização é uma tecnologia que permite que vários sistemas operacionais sejam executados no mesmo hardware físico. Ele oferece muitas vantagens para usuários e provedores de serviços, como melhor gerenciamento de energia, melhor uso de recursos, balanceamento de carga, manutenção, maior disponibilidade de sistemas e isolamento.\n",
      "Os provedores de nuvem usam a virtualização para oferecer soluções escaláveis, elásticas e sob demanda.\n",
      "Existem três tipos de virtualização: virtualização completa, para-virtualização e virtualização assistida por hardware.\n",
      "Porém, também existem pontos de atenção e preocupação que inibem organizações e usuários de migrar seus ativos para este ambiente. Muitos autores afirmam que a computação em nuvem não está sendo adotada por todas as indústrias em potencial devido a questões de segurança.\n",
      "Ao analisar materiais relevantes sobre o assunto, fica claro que existe uma enorme quantidade de vulnerabilidades e ataques possíveis no ambiente Cloud. Isso acontece por inúmeros motivos, mas talvez o principal seja o rico e vasto ecossistema computacional necessário para viabilizar a prestação de serviços na Nuvem.\n",
      "\n",
      "   Há muitas vantagens em usar a virtualização, mas também existem algumas preocupações de segurança.\n",
      "Existe uma enorme quantidade de vulnerabilidades e ataques possíveis no ambiente Cloud.\n",
      "Isso porque o ambiente Cloud é um rico e vasto ecossistema computacional.\n",
      "Muitos pesquisadores que se concentram nos desafios de segurança relacionados à tecnologia de virtualização não classificaram as ameaças estudadas de forma padronizada e sistemática.\n",
      "\n",
      " Há muitas vantagens em usar a virtualização, mas também existem algumas preocupações de segurança.\n",
      "Existe uma enorme quantidade de vulnerabilidades e ataques possíveis no ambiente Cloud.\n",
      "Isso porque o ambiente Cloud é um rico e vasto ecossistema computacional.\n",
      "Muitos pesquisadores que se concentram nos desafios de segurança relacionados à tecnologia de virtualização não classificaram as ameaças estudadas de forma padronizada e sistemática.\n"
     ]
    }
   ],
   "source": [
    "print(traduza(\"\\n\\n\".join(initial_summary[:10]), \"pt\"))"
   ]
  },
  {
   "cell_type": "markdown",
   "metadata": {
    "id": "OYYZM4QOJs3d"
   },
   "source": [
    "It is expected that there will be a few duplicate entries in the list, as you are rolling in context from previous pages to the next. You can easily remove these duplicates by using the set function."
   ]
  },
  {
   "cell_type": "markdown",
   "metadata": {
    "id": "9HczirNnJs3d"
   },
   "source": [
    "#### Reduce step\n",
    "You are ready to proceed on to the next step to combine all the summary into an even smaller summary using the final prompt template and the function that you created earlier."
   ]
  },
  {
   "cell_type": "code",
   "execution_count": 29,
   "metadata": {
    "id": "I8Mg8MaaJs3d"
   },
   "outputs": [
    {
     "name": "stdout",
     "output_type": "stream",
     "text": [
      "- A computação em nuvem é uma maneira popular de atender às necessidades computacionais.\n",
      "- As empresas que usam serviços em nuvem obtêm benefícios como redução de custos, maior agilidade e maior escalabilidade.\n",
      "- Algumas das principais plataformas que oferecem serviços em nuvem são Microsoft Azure, Amazon AWS, Google Cloud e IBM Cloud.\n",
      "- A computação em nuvem possui cinco características essenciais: amplo acesso à rede, elasticidade, possibilidade de mensuração do uso de recursos, oferta sob demanda e arquitetura para oferta de recursos e serviços multilocatários.\n",
      "- A virtualização é uma tecnologia que permite que vários sistemas operacionais sejam executados no mesmo hardware físico.\n",
      "- Os provedores de nuvem usam a virtualização para oferecer soluções escaláveis, elásticas e sob demanda.\n",
      "- Existem três tipos de virtualização: virtualização completa, para-virtualização e virtualização assistida por hardware.\n",
      "- Existem muitas vantagens em usar a virtualização, mas também existem algumas preocupações de segurança.\n",
      "- Existe uma enorme quantidade de vulnerabilidades e ataques possíveis no ambiente Cloud.\n",
      "- Isso porque o ambiente Cloud é um rico e vasto ecossistema computacional.\n",
      "- Muitos pesquisadores que se concentram nos desafios de segurança relacionados à tecnologia de virtualização não classificaram as ameaças estudadas de forma padronizada e sistemática.\n",
      "- O artigo propõe uma categorização dos desafios de segurança na computação em nuvem, especificamente relacionados à tecnologia de virtualização. A classificação é baseada na tríade de segurança informática: Disponibilidade, Confidencialidade e Integridade.\n"
     ]
    }
   ],
   "source": [
    "# Use defined `reduce` function to summarize the summaries\n",
    "initial_summary = set(initial_summary)  # set() function removes duplicate items\n",
    "summary = reduce(initial_summary, final_prompt_template)\n",
    "\n",
    "print(traduza(summary, \"pt\"))"
   ]
  },
  {
   "cell_type": "markdown",
   "metadata": {
    "id": "_5wFY2SLJs3d"
   },
   "source": [
    "#### Recap\n",
    "\n",
    "The model was able to summarize the whole paper into a few bullet points using the MapReduce with Rolling Summary method. Here are the pros and cons of using such method:\n",
    "\n",
    "**Pros:**\n",
    "- Can summarize a large document\n",
    "- As the sequential pages are summarized using the context from previous pages, the context between the pages are preserved\n",
    "\n",
    "**Cons:**\n",
    "- Multiple calls to the model is needed\n",
    "- Cannot work well with parallel processing as the processes to summarize pages are dependent to each other"
   ]
  },
  {
   "cell_type": "markdown",
   "metadata": {
    "id": "LNyorWQgJs3d"
   },
   "source": [
    "## Conclusion\n",
    "\n",
    "You have successfully summarized a long document, even though it was initially impossible due to an input prompt limit. You have also learned several methods for summarizing long documents, along with their advantages and disadvantages.\n",
    "\n",
    "Summarizing a long document can be challenging. It requires you to identify the main points of the document, synthesize the information, and present it in a concise and coherent way. This can be especially difficult if the document is complex or technical. Additionally, summarizing a long document can be time-consuming, as you need to carefully read and analyze the text to ensure that the summary is accurate and complete.\n",
    "\n",
    "While these methods allow you to interact with LLMs and summarize long documents in a flexible way, you may sometimes want to speed up the process by using bootstrapping or pre-built methods. This is where libraries like LangChain come in. You can read more about LangChain support on Vertex AI [here](https://python.langchain.com/en/latest/modules/models/llms/integrations/google_vertex_ai_palm.html)."
   ]
  },
  {
   "cell_type": "code",
   "execution_count": null,
   "metadata": {},
   "outputs": [],
   "source": []
  }
 ],
 "metadata": {
  "colab": {
   "name": "summarization_large_documents.ipynb",
   "toc_visible": true
  },
  "environment": {
   "kernel": "python3",
   "name": "tf2-gpu.2-8.m107",
   "type": "gcloud",
   "uri": "gcr.io/deeplearning-platform-release/tf2-gpu.2-8:m107"
  },
  "kernelspec": {
   "display_name": "Python 3 (ipykernel)",
   "language": "python",
   "name": "python3"
  },
  "language_info": {
   "codemirror_mode": {
    "name": "ipython",
    "version": 3
   },
   "file_extension": ".py",
   "mimetype": "text/x-python",
   "name": "python",
   "nbconvert_exporter": "python",
   "pygments_lexer": "ipython3",
   "version": "3.7.12"
  }
 },
 "nbformat": 4,
 "nbformat_minor": 4
}
