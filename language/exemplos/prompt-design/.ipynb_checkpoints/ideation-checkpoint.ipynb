{
 "cells": [
  {
   "cell_type": "code",
   "execution_count": null,
   "metadata": {
    "id": "ur8xi4C7S06n"
   },
   "outputs": [],
   "source": [
    "# Copyright 2023 Google LLC\n",
    "#\n",
    "# Licensed under the Apache License, Version 2.0 (the \"License\");\n",
    "# you may not use this file except in compliance with the License.\n",
    "# You may obtain a copy of the License at\n",
    "#\n",
    "#     https://www.apache.org/licenses/LICENSE-2.0\n",
    "#\n",
    "# Unless required by applicable law or agreed to in writing, software\n",
    "# distributed under the License is distributed on an \"AS IS\" BASIS,\n",
    "# WITHOUT WARRANTIES OR CONDITIONS OF ANY KIND, either express or implied.\n",
    "# See the License for the specific language governing permissions and\n",
    "# limitations under the License."
   ]
  },
  {
   "cell_type": "markdown",
   "metadata": {
    "id": "JAPoU8Sm5E6e"
   },
   "source": [
    "# Ideation with Generative Models on Vertex AI\n",
    "\n",
    "<table align=\"left\">\n",
    "  <td>\n",
    "    <a href=\"https://colab.research.google.com/github/GoogleCloudPlatform/generative-ai/blob/main/language/examples/prompt-design/ideation.ipynb\">\n",
    "      <img src=\"https://cloud.google.com/ml-engine/images/colab-logo-32px.png\" alt=\"Colab logo\"> Run in Colab\n",
    "    </a>\n",
    "  </td>\n",
    "  <td>\n",
    "    <a href=\"https://github.com/GoogleCloudPlatform/generative-ai/blob/main/language/examples/prompt-design/ideation.ipynb\">\n",
    "      <img src=\"https://cloud.google.com/ml-engine/images/github-logo-32px.png\" alt=\"GitHub logo\">\n",
    "      View on GitHub\n",
    "    </a>\n",
    "  </td>\n",
    "  <td>\n",
    "    <a href=\"https://console.cloud.google.com/vertex-ai/workbench/deploy-notebook?download_url=https://raw.githubusercontent.com/GoogleCloudPlatform/generative-ai/main/language/examples/prompt-design/ideation.ipynb\">\n",
    "      <img src=\"https://lh3.googleusercontent.com/UiNooY4LUgW_oTvpsNhPpQzsstV5W8F7rYgxgGBD85cWJoLmrOzhVs_ksK_vgx40SHs7jCqkTkCk=e14-rj-sc0xffffff-h130-w32\" alt=\"Vertex AI logo\">\n",
    "      Open in Vertex AI Workbench\n",
    "    </a>\n",
    "  </td>\n",
    "</table>"
   ]
  },
  {
   "cell_type": "markdown",
   "metadata": {
    "id": "tvgnzT1CKxrO"
   },
   "source": [
    "## Overview\n",
    "\n",
    "Ideation is the creative process of generating, developing, and communicating new ideas. It is a key part of the design thinking process, and can be used to solve problems, come up with new products or services, or other creative tasks.\n",
    "\n",
    "Generative models are a powerful tool that can be used to boost creativity and innovation. By learning how to use them effectively, you can improve your ability to come up with new ideas and solutions to problems. A key part in this is learning how to structure prompts to use generative models for ideation tasks.\n",
    "\n",
    "Learn more about prompt design in the [official documentation](https://cloud.google.com/vertex-ai/docs/generative-ai/text/text-overview#prompt_structure)."
   ]
  },
  {
   "cell_type": "markdown",
   "metadata": {
    "id": "d975e698c9a4"
   },
   "source": [
    "### Objective\n",
    "\n",
    "In this tutorial, you will learn how to use generative models from the Vertex AI SDK to accelerate the ideation process by working through the following examples:\n",
    "- Marketing campaign generation\n",
    "- Creating reading comprehension questions\n",
    "- Meme generation\n",
    "- Interview question generation\n",
    "- Name generation\n",
    "- General tips and advice"
   ]
  },
  {
   "cell_type": "markdown",
   "metadata": {
    "id": "aed92deeb4a0"
   },
   "source": [
    "### Costs\n",
    "\n",
    "This tutorial uses billable components of Google Cloud:\n",
    "\n",
    "* Vertex AI Generative AI Studio\n",
    "\n",
    "Learn about [Vertex AI pricing](https://cloud.google.com/vertex-ai/pricing),\n",
    "and use the [Pricing Calculator](https://cloud.google.com/products/calculator/)\n",
    "to generate a cost estimate based on your projected usage."
   ]
  },
  {
   "cell_type": "markdown",
   "metadata": {
    "id": "UwfLa-Uzua-4"
   },
   "source": [
    "## Getting Started"
   ]
  },
  {
   "cell_type": "markdown",
   "metadata": {
    "id": "2a5AEr0lkLKD"
   },
   "source": [
    "### Install Vertex AI SDK"
   ]
  },
  {
   "cell_type": "code",
   "execution_count": null,
   "metadata": {
    "id": "148dd6321946",
    "scrolled": true,
    "tags": []
   },
   "outputs": [],
   "source": [
    "!pip install google-cloud-aiplatform google-cloud-translate --upgrade --user"
   ]
  },
  {
   "cell_type": "markdown",
   "metadata": {},
   "source": [
    "**Colab only:** Uncomment the following cell to restart the kernel or use the button to restart the kernel. For Vertex AI Workbench you can restart the terminal using the button on top. "
   ]
  },
  {
   "cell_type": "code",
   "execution_count": null,
   "metadata": {
    "id": "_Hsqwn4hkLKE"
   },
   "outputs": [],
   "source": [
    "# # Automatically restart kernel after installs so that your environment can access the new packages\n",
    "# import IPython\n",
    "\n",
    "# app = IPython.Application.instance()\n",
    "# app.kernel.do_shutdown(True)"
   ]
  },
  {
   "cell_type": "markdown",
   "metadata": {
    "id": "Xe7OuYuGkLKF"
   },
   "source": [
    "### Authenticating your notebook environment\n",
    "* If you are using **Colab** to run this notebook, uncomment the cell below and continue.\n",
    "* If you are using **Vertex AI Workbench**, check out the setup instructions [here](https://github.com/GoogleCloudPlatform/generative-ai/tree/main/setup-env)."
   ]
  },
  {
   "cell_type": "code",
   "execution_count": null,
   "metadata": {
    "id": "U9Gx2SAZkLKF"
   },
   "outputs": [],
   "source": [
    "# from google.colab import auth\n",
    "# auth.authenticate_user()"
   ]
  },
  {
   "cell_type": "markdown",
   "metadata": {
    "id": "960505627ddf"
   },
   "source": [
    "### Import libraries\n"
   ]
  },
  {
   "cell_type": "markdown",
   "metadata": {},
   "source": [
    "**Colab only:** Uncomment the following cell to initialize the Vertex AI SDK. For Vertex AI Workbench, you don't need to run this.  "
   ]
  },
  {
   "cell_type": "code",
   "execution_count": null,
   "metadata": {},
   "outputs": [],
   "source": [
    "# import vertexai\n",
    "\n",
    "# PROJECT_ID = \"[your-project-id]\"  # @param {type:\"string\"}\n",
    "# vertexai.init(project=PROJECT_ID, location=\"us-central1\")"
   ]
  },
  {
   "cell_type": "code",
   "execution_count": null,
   "metadata": {
    "id": "PyQmSRbKA8r-"
   },
   "outputs": [],
   "source": [
    "from vertexai.preview.language_models import TextGenerationModel"
   ]
  },
  {
   "cell_type": "markdown",
   "metadata": {
    "id": "UP76a2la7O-a"
   },
   "source": [
    "### Import models"
   ]
  },
  {
   "cell_type": "code",
   "execution_count": null,
   "metadata": {
    "id": "7isig7e07O-a"
   },
   "outputs": [],
   "source": [
    "generation_model = TextGenerationModel.from_pretrained(\"text-bison@001\")"
   ]
  },
  {
   "cell_type": "markdown",
   "metadata": {},
   "source": [
    "### Create the translation wrapper function"
   ]
  },
  {
   "cell_type": "code",
   "execution_count": null,
   "metadata": {},
   "outputs": [],
   "source": [
    "from google.cloud import translate\n",
    "\n",
    "project_id = !gcloud config list project\n",
    "project_id = project_id[1].split('=')[1].strip()\n",
    "parent = f'projects/' + project_id\n",
    "\n",
    "\n",
    "def traduza(texto, idioma_destino):\n",
    "    client = translate.TranslationServiceClient()\n",
    "\n",
    "    response = client.translate_text(\n",
    "        parent=parent,\n",
    "        contents=[texto],\n",
    "        target_language_code=idioma_destino,\n",
    "        mime_type=\"text/plain\"\n",
    "    )\n",
    "\n",
    "    return response.translations[0].translated_text"
   ]
  },
  {
   "cell_type": "markdown",
   "metadata": {
    "id": "LoYLyYlLxN72"
   },
   "source": [
    "## Ideation Examples"
   ]
  },
  {
   "cell_type": "markdown",
   "metadata": {
    "id": "Km9MirdFua-5"
   },
   "source": [
    "### Marketing campaign generation\n",
    "\n",
    "In this example, our generation example will involve the process of creating new cookie recipes. Let's see how this can be done using the PaLM API."
   ]
  },
  {
   "cell_type": "code",
   "execution_count": null,
   "metadata": {
    "id": "q2v5Pdkdua-6"
   },
   "outputs": [],
   "source": [
    "prompt = traduza(\"Gere uma campanha de marketing sobre moda e sustentabilidade\", \"en\")\n",
    "\n",
    "print(\n",
    "    traduza(generation_model.predict(prompt, temperature=0.2, max_output_tokens=1024, top_k=40, top_p=0.8).text, \"pt\")\n",
    ")"
   ]
  },
  {
   "cell_type": "markdown",
   "metadata": {
    "id": "7DC1rKWlua-6"
   },
   "source": [
    "### Creating reading comprehension questions\n",
    "\n",
    "Reading comprehension tests are often used in schools and universities to assess a student's reading skills. You can use the PaLM API to generate some example questions to test a person's understanding of a provided passage of text."
   ]
  },
  {
   "cell_type": "code",
   "execution_count": null,
   "metadata": {
    "id": "Shb54o4vua-6"
   },
   "outputs": [],
   "source": [
    "prompt = traduza(\"\"\"\n",
    "Gere 5 perguntas que testam a compreensão do leitor sobre o seguinte texto.\n",
    "\n",
    "Texto:\n",
    "A floresta amazônica, também chamada de selva amazônica ou Amazônia, é uma floresta tropical úmida de folhas largas no bioma amazônico que cobre a maior parte da bacia amazônica da América do Sul. Esta bacia abrange 7.000.000 km2 (2.700.000 milhas quadradas), dos quais 5.500.000 km2 (2.100.000 milhas quadradas) são cobertos pela floresta tropical. Esta região inclui territórios pertencentes a nove nações e 3.344 territórios indígenas formalmente reconhecidos.\n",
    "\n",
    "A maior parte da floresta, 60%, está no Brasil, seguido pelo Peru com 13%, Colômbia com 10% e com quantidades menores na Bolívia, Equador, Guiana Francesa, Guiana, Suriname e Venezuela. Quatro nações têm \"Amazonas\" como o nome de uma de suas regiões administrativas de primeiro nível, e a França usa o nome \"Parque Amazônico da Guiana\" para a área de floresta tropical protegida da Guiana Francesa. A Amazônia representa mais da metade das florestas tropicais remanescentes do planeta e compreende a maior e mais biodiversa extensão de floresta tropical do mundo, com cerca de 390 bilhões de árvores individuais em cerca de 16.000 espécies.\n",
    "\n",
    "Mais de 30 milhões de pessoas de 350 grupos étnicos diferentes vivem na Amazônia, subdividida em 9 diferentes sistemas políticos nacionais e 3.344 territórios indígenas formalmente reconhecidos. Os povos indígenas representam 9% da população total, e 60 dos grupos permanecem em grande parte isolados.\n",
    "\n",
    "A floresta tropical provavelmente se formou durante a era Eoceno (de 56 milhões de anos para 33,9 milhões de anos atrás). Surgiu após uma redução global das temperaturas tropicais quando o Oceano Atlântico se expandiu o suficiente para fornecer um clima quente e úmido à bacia amazônica. A floresta tropical existe há pelo menos 55 milhões de anos, e a maior parte da região permaneceu livre de biomas do tipo savana pelo menos até a atual era do gelo, quando o clima era mais seco e a savana mais difundida.\n",
    "\n",
    "Após o evento de extinção do Cretáceo-Paleogeno, a extinção dos dinossauros e o clima mais úmido podem ter permitido que a floresta tropical se espalhasse pelo continente. De 66 a 34 Mya, a floresta tropical estendeu-se até 45° ao sul. As flutuações climáticas durante os últimos 34 milhões de anos permitiram que as regiões de savana se expandissem para os trópicos. Durante o Oligoceno, por exemplo, a floresta tropical abrangia uma faixa relativamente estreita. Ele se expandiu novamente durante o Mioceno Médio, depois se retraiu para uma formação predominantemente interior no último máximo glacial. No entanto, a floresta tropical ainda conseguiu prosperar durante esses períodos glaciais, permitindo a sobrevivência e evolução de uma ampla diversidade de espécies.\n",
    "\n",
    "Vista aérea da floresta amazônica\n",
    "Em meados do Eoceno, acredita-se que a bacia de drenagem do Amazonas foi dividida ao meio do continente pelo Arco do Púrus. A água no lado leste fluiu em direção ao Atlântico, enquanto no oeste a água fluiu em direção ao Pacífico através da Bacia do Amazonas. À medida que a Cordilheira dos Andes subia, no entanto, foi criada uma grande bacia que envolvia um lago; hoje conhecida como Bacia do Solimões. Nos últimos 5 a 10 milhões de anos, essa água acumulada rompeu o Arco do Púrus, juntando-se ao fluxo de leste em direção ao Atlântico.\n",
    "\n",
    "Há evidências de que houve mudanças significativas na vegetação da floresta amazônica ao longo dos últimos 21.000 anos através do último máximo glacial (LGM) e subsequente deglaciação. As análises dos depósitos de sedimentos dos paleolagos da bacia amazônica e do leque amazônico indicam que a precipitação na bacia durante o LGM foi menor do que no presente, e isso quase certamente está associado à redução da cobertura de vegetação tropical úmida na bacia. Nos dias atuais, a Amazônia recebe aproximadamente 9 pés de chuva anualmente. Há um debate, no entanto, sobre quão extensa foi essa redução. Alguns cientistas argumentam que a floresta tropical foi reduzida a pequenos refúgios isolados, separados por florestas abertas e pastagens; outros cientistas argumentam que a floresta tropical permaneceu praticamente intacta, mas estendeu-se menos ao norte, sul e leste do que é visto hoje. Este debate provou ser difícil de resolver porque as limitações práticas de trabalhar na floresta tropical significam que a amostragem de dados é desviada do centro da bacia amazônica, e ambas as explicações são razoavelmente bem suportadas pelos dados disponíveis.\n",
    "\n",
    "Poeira do deserto do Saara levada pelo vento para a Amazônia\n",
    "Mais de 56% da poeira que fertiliza a floresta amazônica vem da depressão de Bodélé, no norte do Chade, no deserto do Saara. A poeira contém fósforo, importante para o crescimento das plantas. A poeira anual do Saara substitui a quantidade equivalente de fósforo arrastada anualmente no solo amazônico pelas chuvas e inundações.\n",
    "\n",
    "O satélite CALIPSO da NASA mediu a quantidade de poeira transportada pelo vento do Saara para a Amazônia: uma média de 182 milhões de toneladas de poeira são expelidas do Saara a cada ano, a 15 graus de longitude oeste, ao longo de 2.600 km (1.600 milhas) ao longo o Oceano Atlântico (alguma poeira cai no Atlântico), então a 35 graus de longitude oeste na costa leste da América do Sul, 27,7 milhões de toneladas (15%) de poeira caem sobre a bacia amazônica (22 milhões de toneladas consistem em fósforo) , 132 milhões de toneladas de poeira permanecem no ar, 43 milhões de toneladas de poeira são levadas pelo vento e caem no Mar do Caribe, além de 75 graus de longitude oeste.\n",
    "\n",
    "O CALIPSO usa um telêmetro a laser para escanear a atmosfera da Terra em busca da distribuição vertical de poeira e outros aerossóis. O CALIPSO rastreia regularmente a pluma de poeira Saara-Amazônia. O CALIPSO mediu variações nas quantidades de poeira transportadas – uma queda de 86% entre a maior quantidade de poeira transportada em 2007 e a menor em 2011.\n",
    "Uma possibilidade que causa a variação é o Sahel, uma faixa de terra semiárida na fronteira sul do Saara. Quando as quantidades de chuva no Sahel são maiores, o volume de poeira é menor. A maior pluviosidade poderia fazer com que mais vegetação crescesse no Sahel, deixando menos areia exposta aos ventos.[25]\n",
    "\n",
    "O fósforo da Amazônia também vem como fumaça devido à queima de biomassa na África.\n",
    "\n",
    "Questões:\n",
    "\"\"\", \"en\")\n",
    "\n",
    "print(\n",
    "    traduza(generation_model.predict(prompt, temperature=0.2, max_output_tokens=1024, top_k=40, top_p=0.8).text, \"pt\")\n",
    ")"
   ]
  },
  {
   "cell_type": "markdown",
   "metadata": {
    "id": "GCcCMhbOua-7"
   },
   "source": [
    "### Meme generation\n",
    "\n",
    "A more lighthearted text generation example is to generate memes based on a certain topic."
   ]
  },
  {
   "cell_type": "code",
   "execution_count": null,
   "metadata": {
    "id": "6l_BZnx5ua-7"
   },
   "outputs": [],
   "source": [
    "prompt = traduza(\"Me dê cinco ideias de memes com gatinhos:\", \"en\")\n",
    "\n",
    "print(\n",
    "    traduza(generation_model.predict(prompt, temperature=0.2, max_output_tokens=1024, top_k=1, top_p=0.8).text, \"pt\")\n",
    ")"
   ]
  },
  {
   "cell_type": "markdown",
   "metadata": {
    "id": "q9lnIlmWua-8"
   },
   "source": [
    "### Interview question generation\n",
    "\n",
    "Whether you are the interviewer or interviewee, having some sample interview questions you can work with can be very helpful in job interviews. Below we use the PaLM API to help us generate some potential interview questions for a particular role."
   ]
  },
  {
   "cell_type": "code",
   "execution_count": null,
   "metadata": {
    "id": "xGrZMUt5ua-8"
   },
   "outputs": [],
   "source": [
    "prompt = traduza(\"Gere dez questões sobre o cargo de prompts engineer para trabalhar com large language models.\", \"en\")\n",
    "\n",
    "print(\n",
    "    traduza(generation_model.predict(prompt, temperature=0.2, max_output_tokens=256, top_k=1, top_p=0.8).text, \"pt\")\n",
    ")"
   ]
  },
  {
   "cell_type": "markdown",
   "metadata": {
    "id": "d1nSLoW7ua-8"
   },
   "source": [
    "### Name generation\n",
    "\n",
    "Name generation is useful in a variety of scenarios, such as creating new characters for a story or naming a new product or company. You can generate ideas for names of a specified entity using the PaLM API."
   ]
  },
  {
   "cell_type": "code",
   "execution_count": null,
   "metadata": {
    "id": "qLnUrgs8ua-8"
   },
   "outputs": [],
   "source": [
    "prompt = traduza(\"Qual seria um nome legal para uma floricultura especializada em vender buquês de flores desidratadas?\", \"en\")\n",
    "\n",
    "print(\n",
    "    traduza(generation_model.predict(prompt, temperature=0.2, max_output_tokens=256, top_k=1, top_p=0.8).text, \"pt\")\n",
    ")"
   ]
  },
  {
   "cell_type": "markdown",
   "metadata": {
    "id": "M5Ca5Btvua-8"
   },
   "source": [
    "### General tips and advice\n",
    "\n",
    "Below is an example of using the PaLM API to get tips and advice on general topics."
   ]
  },
  {
   "cell_type": "code",
   "execution_count": null,
   "metadata": {
    "id": "aFy4ix6Cua-9"
   },
   "outputs": [],
   "source": [
    "prompt = traduza(\"Quais seriam boas estratégias para superar o bloqueio de escrita?\", \"en\")\n",
    "\n",
    "print(\n",
    "    traduza(generation_model.predict(prompt, temperature=0.2, max_output_tokens=1024, top_k=1, top_p=0.8).text, \"pt\")\n",
    ")"
   ]
  },
  {
   "cell_type": "code",
   "execution_count": null,
   "metadata": {},
   "outputs": [],
   "source": []
  }
 ],
 "metadata": {
  "colab": {
   "name": "ideation.ipynb",
   "toc_visible": true
  },
  "environment": {
   "kernel": "python3",
   "name": "tf2-gpu.2-8.m107",
   "type": "gcloud",
   "uri": "gcr.io/deeplearning-platform-release/tf2-gpu.2-8:m107"
  },
  "kernelspec": {
   "display_name": "Python 3 (ipykernel)",
   "language": "python",
   "name": "python3"
  },
  "language_info": {
   "codemirror_mode": {
    "name": "ipython",
    "version": 3
   },
   "file_extension": ".py",
   "mimetype": "text/x-python",
   "name": "python",
   "nbconvert_exporter": "python",
   "pygments_lexer": "ipython3",
   "version": "3.7.12"
  }
 },
 "nbformat": 4,
 "nbformat_minor": 4
}
